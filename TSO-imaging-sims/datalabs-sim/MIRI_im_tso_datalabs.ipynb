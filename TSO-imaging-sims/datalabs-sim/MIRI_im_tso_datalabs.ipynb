{
 "cells": [
  {
   "cell_type": "code",
   "execution_count": 1,
   "metadata": {},
   "outputs": [],
   "source": [
    "%load_ext autoreload\n",
    "%autoreload"
   ]
  },
  {
   "cell_type": "code",
   "execution_count": 2,
   "metadata": {},
   "outputs": [],
   "source": [
    "import numpy as np\n",
    "import matplotlib.pyplot as plt\n",
    "import os\n",
    "import glob\n",
    "from mirisim.config_parser import SimulatorConfig\n",
    "from mirisim import MiriSimulation\n",
    "import tso_img_datalabs_sim\n",
    "from tso_img_datalabs_sim import wasp103_scene, wasp103_sim_config\n",
    "\n",
    "from importlib import reload"
   ]
  },
  {
   "cell_type": "markdown",
   "metadata": {},
   "source": [
    "In this notebook I'm going to generate simulated MIRI time series imaging data, to provide as test set for ESA Datalabs. To install Mirisim, see the [the public release webpage](http://miri.ster.kuleuven.be/bin/view/Public/MIRISim_Public). The target for the mock observations is WASP-103, an exoplanet host star with the following properties from [the exoplanet encyclopaedia](http://exoplanet.eu/catalog/wasp-103_b/):\n",
    "\n",
    "* spectral type F8V\n",
    "* T_bb = 6110 K\n",
    "* V = 12.0, K = 10.7\n",
    "\n",
    "K magnitude of 10.7 corresponds to a flux of 32.5 mJy or 32.5e3 microJy.\n",
    "\n",
    "Using the ETC, I calculated the following number of groups for a high-SNR but unsaturated image:\n",
    "* FULL array: NGROUPS = 5\n",
    "* SUB64 subarray: NGROUPS = 60\n",
    "\n",
    "We want to simulate a medium length exposure in both FULL and SUB64 subarras. In total that's 2 simulations.\n",
    "\n",
    "\n",
    "| Sim no | Array   | NGroups  | NInt   | NExp   | Exp time |\n",
    "| -------|---------| ---------|--------|--------|----------|\n",
    "|1       |FULL     |  5       | 200    | 1      | 0.77 hr  |\n",
    "|2       |SUB64    |  60      | 600    | 1      | 0.85 hr  |\n",
    "\n",
    "### Steps in setting up the simulation\n",
    "\n",
    "This notebook will go through the following steps:\n",
    "\n",
    "* Create the scene\n",
    "* Set up the simulation\n",
    "* Run the simulation\n",
    "\n",
    "Each step has its own function. Steps 1 and 2 will each write out a .ini file, which will be used as input for the final step."
   ]
  },
  {
   "cell_type": "code",
   "execution_count": 3,
   "metadata": {},
   "outputs": [],
   "source": [
    "arr = ['FULL', 'SUB64']\n",
    "ngrp = [5, 60]\n",
    "#nints = [200, 600]\n",
    "nints = [1, 1]"
   ]
  },
  {
   "cell_type": "markdown",
   "metadata": {},
   "source": [
    "## Step 1: Creating the input scene (WASP-103)\n",
    "\n",
    "Here we'll create the input scene for the simulations using the function wasp103_scene(). Arguments:\n",
    "\n",
    "* scene_file: the filename for the .ini file\n",
    "* write_cube: write the scene image out to a FITS file (optional; default=False)\n",
    "\n",
    "The function returns a mirisim.skysim.scenes.CompositeSkyScene object.\n"
   ]
  },
  {
   "cell_type": "code",
   "execution_count": 4,
   "metadata": {},
   "outputs": [
    {
     "name": "stderr",
     "output_type": "stream",
     "text": [
      "2021-02-24 14:04:56,692 - INFO - Initializing Point\n",
      "2021-02-24 14:04:56,693 - INFO - Initializing Background\n"
     ]
    },
    {
     "name": "stdout",
     "output_type": "stream",
     "text": [
      "Creating scene. Scene will be written to file wasp103_scene.ini\n",
      "File wasp103_scene.ini already exists. Will be overwritten.\n",
      "wasp103_scene.ini exists, overwrite (y/[n])?y\n"
     ]
    }
   ],
   "source": [
    "scene_ini = wasp103_scene(scene_file='wasp103_scene.ini', write_cube=False)"
   ]
  },
  {
   "cell_type": "code",
   "execution_count": 5,
   "metadata": {},
   "outputs": [
    {
     "name": "stdout",
     "output_type": "stream",
     "text": [
      "wasp103_scene.ini\n"
     ]
    }
   ],
   "source": [
    "print(scene_ini)"
   ]
  },
  {
   "cell_type": "markdown",
   "metadata": {},
   "source": [
    "## Step 2: Configuring the simulation\n",
    "\n",
    "Now I'll set up the simulations and prepare to run them. I'll set it up to loop through the 2 simulations. For this I wrote the function wasp103_sim_config. Check the docstring for descriptions and default values of the arguments. \n",
    "\n",
    "The function will write out another .ini file containing the simulation configuration, and it returns the output filename for further use."
   ]
  },
  {
   "cell_type": "code",
   "execution_count": 6,
   "metadata": {},
   "outputs": [
    {
     "name": "stdout",
     "output_type": "stream",
     "text": [
      "Found scene file wasp103_scene.ini\n",
      "wasp103_FULL_5G1I1E_simconfig.ini exists, overwrite (y/[n])?y\n",
      "wasp103_FULL_5G1I1E_simconfig.ini\n",
      "Found scene file wasp103_scene.ini\n",
      "wasp103_SUB64_60G1I1E_simconfig.ini exists, overwrite (y/[n])?y\n",
      "wasp103_SUB64_60G1I1E_simconfig.ini\n"
     ]
    }
   ],
   "source": [
    "#reload(tso_img_sims_setup)\n",
    "#from tso_img_sims_setup import wasp103_sim_config\n",
    "\n",
    "for (a, g, i) in zip(arr, ngrp, nints):\n",
    "    sim_ini = wasp103_sim_config(mode='imaging', arr=a, ngrp=g, nint=i, nexp=1, filt='F770W', \n",
    "                   scene_file=scene_ini, out=True)\n",
    "    print(sim_ini)"
   ]
  },
  {
   "cell_type": "markdown",
   "metadata": {},
   "source": [
    "### Step 3: Run the simulation\n",
    "\n",
    "In the following step we'll run the simulations for the 6 different cases. For each run, we need 3 input files: the scene, the simulation configuration, and the simulator setup file. The first and last of these remain the same for each run, and we loop through the list of 6 simulation config files.\n",
    "\n",
    "After the simulation has run, the code renames the output directory to include the simulation settings to the directory.\n"
   ]
  },
  {
   "cell_type": "code",
   "execution_count": 10,
   "metadata": {},
   "outputs": [
    {
     "name": "stdout",
     "output_type": "stream",
     "text": [
      "['wasp103_FULL_5G1I1E_simconfig.ini', 'wasp103_SUB64_60G1I1E_simconfig.ini']\n"
     ]
    }
   ],
   "source": [
    "cfg_files = glob.glob('*_simconfig.ini')\n",
    "print(cfg_files)\n",
    "\n"
   ]
  },
  {
   "cell_type": "code",
   "execution_count": 11,
   "metadata": {},
   "outputs": [
    {
     "name": "stderr",
     "output_type": "stream",
     "text": [
      "2021-02-24 14:10:04,456 - INFO - Using simulation configuration: wasp103_FULL_5G1I1E_simconfig.ini\n",
      "2021-02-24 14:10:04,458 - INFO - Using scene configuration: wasp103_scene.ini\n",
      "2021-02-24 14:10:04,460 - INFO - MIRISim version: 2.3.0\n",
      "2021-02-24 14:10:04,461 - INFO - MIRI Simulation started.\n",
      "2021-02-24 14:10:04,463 - INFO - Output will be saved to: 20210224_141004_mirisim\n",
      "2021-02-24 14:10:04,464 - INFO - Storing configs in output directory.\n",
      "2021-02-24 14:10:04,467 - INFO - Storing dither pattern in output directory.\n",
      "2021-02-24 14:10:04,468 - INFO - Using $CDP_DIR for location of CDP files: /Users/kendrew//CDP_2.3\n",
      "2021-02-24 14:10:04,469 - INFO - Setting up simulated Observation, with following settings:\n",
      "2021-02-24 14:10:04,470 - INFO - Configuration Path: IMA_FULL\n",
      "2021-02-24 14:10:04,471 - INFO - Primary optical path: IMA\n",
      "2021-02-24 14:10:04,472 - INFO - IMA Filter: F770W\n",
      "2021-02-24 14:10:04,473 - INFO - IMA Subarray: FULL\n",
      "2021-02-24 14:10:04,474 - INFO - IMA detector readout mode: FAST\n",
      "2021-02-24 14:10:04,475 - INFO - IMA detector # exposures: 1\n",
      "2021-02-24 14:10:04,476 - INFO - IMA detector # integrations: 1\n",
      "2021-02-24 14:10:04,477 - INFO - IMA detector # frames: 5\n",
      "2021-02-24 14:10:04,478 - INFO - Parsing: Background\n",
      "2021-02-24 14:10:04,479 - INFO - Initializing Background\n",
      "2021-02-24 14:10:04,480 - INFO - Parsing: point_1\n",
      "2021-02-24 14:10:04,481 - INFO - Initializing Point\n",
      "2021-02-24 14:10:04,481 - INFO - Simulating a single pointing.\n",
      "2021-02-24 14:10:04,482 - WARNING - Matching against local CDP cache only.\n",
      "2021-02-24 14:10:04,483 - ERROR - The criteria given (DISTORTION, detector=MIRIMAGE) did not match any CDP files.\n",
      "2021-02-24 14:10:04,484 - ERROR - No data model could be retrieved.\n"
     ]
    },
    {
     "ename": "OSError",
     "evalue": "CDP data model not available.",
     "output_type": "error",
     "traceback": [
      "\u001b[0;31m---------------------------------------------------------------------------\u001b[0m",
      "\u001b[0;31mOSError\u001b[0m                                   Traceback (most recent call last)",
      "\u001b[0;32m<ipython-input-11-6d4846bdf3fd>\u001b[0m in \u001b[0;36m<module>\u001b[0;34m\u001b[0m\n\u001b[1;32m      6\u001b[0m     \u001b[0mfcomps\u001b[0m \u001b[0;34m=\u001b[0m \u001b[0mtmp\u001b[0m\u001b[0;34m[\u001b[0m\u001b[0;36m0\u001b[0m\u001b[0;34m]\u001b[0m\u001b[0;34m.\u001b[0m\u001b[0msplit\u001b[0m\u001b[0;34m(\u001b[0m\u001b[0;34m'_'\u001b[0m\u001b[0;34m)\u001b[0m\u001b[0;34m\u001b[0m\u001b[0;34m\u001b[0m\u001b[0m\n\u001b[1;32m      7\u001b[0m     \u001b[0msim\u001b[0m \u001b[0;34m=\u001b[0m \u001b[0mMiriSimulation\u001b[0m\u001b[0;34m.\u001b[0m\u001b[0mfrom_configfiles\u001b[0m\u001b[0;34m(\u001b[0m\u001b[0mf\u001b[0m\u001b[0;34m)\u001b[0m\u001b[0;34m\u001b[0m\u001b[0;34m\u001b[0m\u001b[0m\n\u001b[0;32m----> 8\u001b[0;31m     \u001b[0msim\u001b[0m\u001b[0;34m.\u001b[0m\u001b[0mrun\u001b[0m\u001b[0;34m(\u001b[0m\u001b[0;34m)\u001b[0m\u001b[0;34m\u001b[0m\u001b[0;34m\u001b[0m\u001b[0m\n\u001b[0m\u001b[1;32m      9\u001b[0m     \u001b[0moutdir\u001b[0m \u001b[0;34m=\u001b[0m \u001b[0msorted\u001b[0m\u001b[0;34m(\u001b[0m\u001b[0mglob\u001b[0m\u001b[0;34m.\u001b[0m\u001b[0mglob\u001b[0m\u001b[0;34m(\u001b[0m\u001b[0;34m'*_*_mirisim'\u001b[0m\u001b[0;34m)\u001b[0m\u001b[0;34m,\u001b[0m \u001b[0mkey\u001b[0m\u001b[0;34m=\u001b[0m\u001b[0mos\u001b[0m\u001b[0;34m.\u001b[0m\u001b[0mpath\u001b[0m\u001b[0;34m.\u001b[0m\u001b[0mgetmtime\u001b[0m \u001b[0;34m)\u001b[0m\u001b[0;34m[\u001b[0m\u001b[0;34m-\u001b[0m\u001b[0;36m1\u001b[0m\u001b[0;34m]\u001b[0m\u001b[0;34m\u001b[0m\u001b[0;34m\u001b[0m\u001b[0m\n\u001b[1;32m     10\u001b[0m     \u001b[0mnew_outdir\u001b[0m \u001b[0;34m=\u001b[0m \u001b[0;34m'wasp103_imtso_{0}_{1}_{2}'\u001b[0m\u001b[0;34m.\u001b[0m\u001b[0mformat\u001b[0m\u001b[0;34m(\u001b[0m\u001b[0mfcomps\u001b[0m\u001b[0;34m[\u001b[0m\u001b[0;36m1\u001b[0m\u001b[0;34m]\u001b[0m\u001b[0;34m,\u001b[0m \u001b[0mfcomps\u001b[0m\u001b[0;34m[\u001b[0m\u001b[0;36m2\u001b[0m\u001b[0;34m]\u001b[0m\u001b[0;34m,\u001b[0m \u001b[0moutdir\u001b[0m\u001b[0;34m)\u001b[0m\u001b[0;34m\u001b[0m\u001b[0;34m\u001b[0m\u001b[0m\n",
      "\u001b[0;32m~/anaconda3/envs/miricle/lib/python3.7/site-packages/mirisim/mirisimulation.py\u001b[0m in \u001b[0;36mrun\u001b[0;34m(self)\u001b[0m\n\u001b[1;32m    253\u001b[0m         simulation = ObservationSimulation(\n\u001b[1;32m    254\u001b[0m             \u001b[0mself\u001b[0m\u001b[0;34m.\u001b[0m\u001b[0msim_config\u001b[0m\u001b[0;34m,\u001b[0m \u001b[0mself\u001b[0m\u001b[0;34m.\u001b[0m\u001b[0mscene_config\u001b[0m\u001b[0;34m,\u001b[0m \u001b[0mself\u001b[0m\u001b[0;34m.\u001b[0m\u001b[0msimulator_config\u001b[0m\u001b[0;34m,\u001b[0m\u001b[0;34m\u001b[0m\u001b[0;34m\u001b[0m\u001b[0m\n\u001b[0;32m--> 255\u001b[0;31m             self.path_out, self.path_cdp)\n\u001b[0m\u001b[1;32m    256\u001b[0m         \u001b[0msimulation\u001b[0m\u001b[0;34m.\u001b[0m\u001b[0mrun\u001b[0m\u001b[0;34m(\u001b[0m\u001b[0;34m)\u001b[0m\u001b[0;34m\u001b[0m\u001b[0;34m\u001b[0m\u001b[0m\n\u001b[1;32m    257\u001b[0m \u001b[0;34m\u001b[0m\u001b[0m\n",
      "\u001b[0;32m~/anaconda3/envs/miricle/lib/python3.7/site-packages/mirisim/obssim/obssim.py\u001b[0m in \u001b[0;36m__init__\u001b[0;34m(self, sim_config, scene_config, simulator_config, path_out, path_cdp)\u001b[0m\n\u001b[1;32m     85\u001b[0m \u001b[0;34m\u001b[0m\u001b[0m\n\u001b[1;32m     86\u001b[0m         \u001b[0;31m# Setup the simulation\u001b[0m\u001b[0;34m\u001b[0m\u001b[0;34m\u001b[0m\u001b[0;34m\u001b[0m\u001b[0m\n\u001b[0;32m---> 87\u001b[0;31m         \u001b[0mself\u001b[0m\u001b[0;34m.\u001b[0m\u001b[0msetup\u001b[0m\u001b[0;34m(\u001b[0m\u001b[0;34m)\u001b[0m\u001b[0;34m\u001b[0m\u001b[0;34m\u001b[0m\u001b[0m\n\u001b[0m\u001b[1;32m     88\u001b[0m \u001b[0;34m\u001b[0m\u001b[0m\n\u001b[1;32m     89\u001b[0m     \u001b[0;32mdef\u001b[0m \u001b[0minit_vars\u001b[0m\u001b[0;34m(\u001b[0m\u001b[0mself\u001b[0m\u001b[0;34m)\u001b[0m\u001b[0;34m:\u001b[0m\u001b[0;34m\u001b[0m\u001b[0;34m\u001b[0m\u001b[0m\n",
      "\u001b[0;32m~/anaconda3/envs/miricle/lib/python3.7/site-packages/mirisim/obssim/obssim.py\u001b[0m in \u001b[0;36msetup\u001b[0;34m(self)\u001b[0m\n\u001b[1;32m    306\u001b[0m             \u001b[0mmrs_ref_channel\u001b[0m\u001b[0;34m=\u001b[0m\u001b[0mself\u001b[0m\u001b[0;34m.\u001b[0m\u001b[0mdither_ref_chan\u001b[0m\u001b[0;34m,\u001b[0m \u001b[0mmrs_ref_band\u001b[0m\u001b[0;34m=\u001b[0m\u001b[0mself\u001b[0m\u001b[0;34m.\u001b[0m\u001b[0mdither_ref_band\u001b[0m\u001b[0;34m,\u001b[0m\u001b[0;34m\u001b[0m\u001b[0;34m\u001b[0m\u001b[0m\n\u001b[1;32m    307\u001b[0m             \u001b[0mfilter_name\u001b[0m\u001b[0;34m=\u001b[0m\u001b[0mself\u001b[0m\u001b[0;34m.\u001b[0m\u001b[0mima_filter\u001b[0m\u001b[0;34m,\u001b[0m \u001b[0mseed_jitter\u001b[0m\u001b[0;34m=\u001b[0m\u001b[0mself\u001b[0m\u001b[0;34m.\u001b[0m\u001b[0mseed_jitter\u001b[0m\u001b[0;34m,\u001b[0m\u001b[0;34m\u001b[0m\u001b[0;34m\u001b[0m\u001b[0m\n\u001b[0;32m--> 308\u001b[0;31m             simulator_config=self.simulator_config)\n\u001b[0m\u001b[1;32m    309\u001b[0m \u001b[0;34m\u001b[0m\u001b[0m\n\u001b[1;32m    310\u001b[0m         \u001b[0;31m# From sequence of pointings, create a sequence of Exposure and Offset events\u001b[0m\u001b[0;34m\u001b[0m\u001b[0;34m\u001b[0m\u001b[0;34m\u001b[0m\u001b[0m\n",
      "\u001b[0;32m~/anaconda3/envs/miricle/lib/python3.7/site-packages/mirisim/obssim/pointing.py\u001b[0m in \u001b[0;36mget_pointings_from_dither_pattern\u001b[0;34m(ra, dec, pa, ditherpattern, ind_start, ndither, cfgpath, jitter, jitteramp, mrs_ref_channel, mrs_ref_band, filter_name, sequential, seed_jitter, simulator_config)\u001b[0m\n\u001b[1;32m    331\u001b[0m             v2_dref, v3_dref = get_ima_v2v3_ref(\n\u001b[1;32m    332\u001b[0m                 \u001b[0mcfgpath\u001b[0m\u001b[0;34m,\u001b[0m \u001b[0mfilter_name\u001b[0m\u001b[0;34m,\u001b[0m\u001b[0;34m\u001b[0m\u001b[0;34m\u001b[0m\u001b[0m\n\u001b[0;32m--> 333\u001b[0;31m                 simulator_config=simulator_config)\n\u001b[0m\u001b[1;32m    334\u001b[0m \u001b[0;34m\u001b[0m\u001b[0m\n\u001b[1;32m    335\u001b[0m         \u001b[0;31m# Load the (colsub, rowsub) to (v2,v3) transformation for specified\u001b[0m\u001b[0;34m\u001b[0m\u001b[0;34m\u001b[0m\u001b[0;34m\u001b[0m\u001b[0m\n",
      "\u001b[0;32m~/anaconda3/envs/miricle/lib/python3.7/site-packages/mirisim/imsim/ima.py\u001b[0m in \u001b[0;36mget_ima_v2v3_ref\u001b[0;34m(cfgpath, filterName, simulator_config)\u001b[0m\n\u001b[1;32m    584\u001b[0m     \u001b[0;31m# Retrieve the transformation object for \"full imager detector\" to \"v2, v3\"\u001b[0m\u001b[0;34m\u001b[0m\u001b[0;34m\u001b[0m\u001b[0;34m\u001b[0m\u001b[0m\n\u001b[1;32m    585\u001b[0m     \u001b[0;31m# for specified filter.\u001b[0m\u001b[0;34m\u001b[0m\u001b[0;34m\u001b[0m\u001b[0;34m\u001b[0m\u001b[0m\n\u001b[0;32m--> 586\u001b[0;31m     \u001b[0mlocal_transforms\u001b[0m \u001b[0;34m=\u001b[0m \u001b[0mget_full_to_v2v3_transforms\u001b[0m\u001b[0;34m(\u001b[0m\u001b[0mfilterName\u001b[0m\u001b[0;34m,\u001b[0m \u001b[0msimulator_config\u001b[0m\u001b[0;34m=\u001b[0m\u001b[0msimulator_config\u001b[0m\u001b[0;34m)\u001b[0m\u001b[0;34m\u001b[0m\u001b[0;34m\u001b[0m\u001b[0m\n\u001b[0m\u001b[1;32m    587\u001b[0m \u001b[0;34m\u001b[0m\u001b[0m\n\u001b[1;32m    588\u001b[0m     \u001b[0;31m# Convert reference (column, row) position to (v2, v3)\u001b[0m\u001b[0;34m\u001b[0m\u001b[0;34m\u001b[0m\u001b[0;34m\u001b[0m\u001b[0m\n",
      "\u001b[0;32m~/anaconda3/envs/miricle/lib/python3.7/site-packages/mirisim/imsim/ima.py\u001b[0m in \u001b[0;36mget_full_to_v2v3_transforms\u001b[0;34m(filterName, simulator_config)\u001b[0m\n\u001b[1;32m    327\u001b[0m     \"\"\"\n\u001b[1;32m    328\u001b[0m     \u001b[0;31m# Get all Imager transformations (non-filter specific).\u001b[0m\u001b[0;34m\u001b[0m\u001b[0;34m\u001b[0m\u001b[0;34m\u001b[0m\u001b[0m\n\u001b[0;32m--> 329\u001b[0;31m     \u001b[0mimat\u001b[0m \u001b[0;34m=\u001b[0m \u001b[0mImaTransforms\u001b[0m\u001b[0;34m(\u001b[0m\u001b[0msimulator_config\u001b[0m\u001b[0;34m=\u001b[0m\u001b[0msimulator_config\u001b[0m\u001b[0;34m)\u001b[0m\u001b[0;34m\u001b[0m\u001b[0;34m\u001b[0m\u001b[0m\n\u001b[0m\u001b[1;32m    330\u001b[0m \u001b[0;34m\u001b[0m\u001b[0m\n\u001b[1;32m    331\u001b[0m     \u001b[0;31m# Get transformation from full array for F770W (reference) filter to\u001b[0m\u001b[0;34m\u001b[0m\u001b[0;34m\u001b[0m\u001b[0;34m\u001b[0m\u001b[0m\n",
      "\u001b[0;32m~/anaconda3/envs/miricle/lib/python3.7/site-packages/mirisim/imsim/ima.py\u001b[0m in \u001b[0;36m__init__\u001b[0;34m(self, simulator_config)\u001b[0m\n\u001b[1;32m    188\u001b[0m \u001b[0;34m\u001b[0m\u001b[0m\n\u001b[1;32m    189\u001b[0m         \u001b[0;31m# Load imager distortion file and store in self.\u001b[0m\u001b[0;34m\u001b[0m\u001b[0;34m\u001b[0m\u001b[0;34m\u001b[0m\u001b[0m\n\u001b[0;32m--> 190\u001b[0;31m         \u001b[0mself\u001b[0m\u001b[0;34m.\u001b[0m\u001b[0mima_dist\u001b[0m \u001b[0;34m=\u001b[0m \u001b[0mget_ima_distortion\u001b[0m\u001b[0;34m(\u001b[0m\u001b[0msimulator_config\u001b[0m\u001b[0;34m=\u001b[0m\u001b[0msimulator_config\u001b[0m\u001b[0;34m)\u001b[0m\u001b[0;34m\u001b[0m\u001b[0;34m\u001b[0m\u001b[0m\n\u001b[0m\u001b[1;32m    191\u001b[0m \u001b[0;34m\u001b[0m\u001b[0m\n\u001b[1;32m    192\u001b[0m         \u001b[0;31m# Log error if version of Imager Distortion is not 7.\u001b[0m\u001b[0;34m\u001b[0m\u001b[0;34m\u001b[0m\u001b[0;34m\u001b[0m\u001b[0m\n",
      "\u001b[0;32m~/anaconda3/envs/miricle/lib/python3.7/site-packages/mirisim/cdp.py\u001b[0m in \u001b[0;36mget_ima_distortion\u001b[0;34m(**kwargs)\u001b[0m\n\u001b[1;32m    249\u001b[0m     \"\"\"\n\u001b[1;32m    250\u001b[0m     model = get_cdp(CDPTYPE_DISTORTION, detector=DET_IMA, \n\u001b[0;32m--> 251\u001b[0;31m                     cdp_version_tag='ima_distortion_version', **kwargs)\n\u001b[0m\u001b[1;32m    252\u001b[0m     \u001b[0;32mreturn\u001b[0m \u001b[0mmodel\u001b[0m\u001b[0;34m\u001b[0m\u001b[0;34m\u001b[0m\u001b[0m\n\u001b[1;32m    253\u001b[0m \u001b[0;34m\u001b[0m\u001b[0m\n",
      "\u001b[0;32m~/anaconda3/envs/miricle/lib/python3.7/site-packages/mirisim/cdp.py\u001b[0m in \u001b[0;36mget_cdp\u001b[0;34m(cdptype, cdprelease, cdpversion, cdpsubversion, simulator_config, cdp_version_tag, **kwargs)\u001b[0m\n\u001b[1;32m    171\u001b[0m     \u001b[0;32mif\u001b[0m \u001b[0mdatamodel\u001b[0m \u001b[0;32mis\u001b[0m \u001b[0;32mNone\u001b[0m\u001b[0;34m:\u001b[0m\u001b[0;34m\u001b[0m\u001b[0;34m\u001b[0m\u001b[0m\n\u001b[1;32m    172\u001b[0m         \u001b[0mlogger\u001b[0m\u001b[0;34m.\u001b[0m\u001b[0merror\u001b[0m\u001b[0;34m(\u001b[0m\u001b[0;34m\"No data model could be retrieved.\"\u001b[0m\u001b[0;34m)\u001b[0m\u001b[0;34m\u001b[0m\u001b[0;34m\u001b[0m\u001b[0m\n\u001b[0;32m--> 173\u001b[0;31m         \u001b[0;32mraise\u001b[0m \u001b[0mIOError\u001b[0m\u001b[0;34m(\u001b[0m\u001b[0;34m\"CDP data model not available.\"\u001b[0m\u001b[0;34m)\u001b[0m\u001b[0;34m\u001b[0m\u001b[0;34m\u001b[0m\u001b[0m\n\u001b[0m\u001b[1;32m    174\u001b[0m \u001b[0;34m\u001b[0m\u001b[0m\n\u001b[1;32m    175\u001b[0m     \u001b[0;32mreturn\u001b[0m \u001b[0mdatamodel\u001b[0m\u001b[0;34m\u001b[0m\u001b[0;34m\u001b[0m\u001b[0m\n",
      "\u001b[0;31mOSError\u001b[0m: CDP data model not available."
     ]
    }
   ],
   "source": [
    "# configure the simulator engine - this requires no editing from the default\n",
    "simulator_config = SimulatorConfig.from_default()\n",
    "\n",
    "for f in cfg_files[:1]:\n",
    "    tmp = f.split('.')\n",
    "    fcomps = tmp[0].split('_')\n",
    "    sim = MiriSimulation.from_configfiles(f)\n",
    "    sim.run()\n",
    "    outdir = sorted(glob.glob('*_*_mirisim'), key=os.path.getmtime )[-1]\n",
    "    new_outdir = 'wasp103_imtso_{0}_{1}_{2}'.format(fcomps[1], fcomps[2], outdir)\n",
    "    os.rename(outdir, new_outdir)\n",
    "    print(outdir, new_outdir)\n"
   ]
  },
  {
   "cell_type": "markdown",
   "metadata": {},
   "source": [
    "### Step 3: Minor housekeeping to make the sim pipeline-ready\n",
    "\n",
    "To make the MIRISim data ready for the TSO-specific pipeline, we have to make a couple of small changes to the data:\n",
    "\n",
    "* add the TSOVISIT = TRUE to the primary header\n",
    "* make sure the "
   ]
  }
 ],
 "metadata": {
  "kernelspec": {
   "display_name": "Python 3",
   "language": "python",
   "name": "python3"
  },
  "language_info": {
   "codemirror_mode": {
    "name": "ipython",
    "version": 3
   },
   "file_extension": ".py",
   "mimetype": "text/x-python",
   "name": "python",
   "nbconvert_exporter": "python",
   "pygments_lexer": "ipython3",
   "version": "3.7.7"
  }
 },
 "nbformat": 4,
 "nbformat_minor": 2
}
