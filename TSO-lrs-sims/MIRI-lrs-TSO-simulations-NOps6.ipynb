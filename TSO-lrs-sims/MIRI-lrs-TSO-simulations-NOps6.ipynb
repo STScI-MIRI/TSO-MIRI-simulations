{
 "cells": [
  {
   "cell_type": "code",
   "execution_count": 1,
   "metadata": {},
   "outputs": [],
   "source": [
    "%load_ext autoreload\n",
    "%autoreload"
   ]
  },
  {
   "cell_type": "code",
   "execution_count": 1,
   "metadata": {},
   "outputs": [],
   "source": [
    "import numpy as np\n",
    "import matplotlib.pyplot as plt\n",
    "import os\n",
    "import glob\n",
    "from mirisim.config_parser import SimulatorConfig\n",
    "from mirisim import MiriSimulation\n",
    "import tso_lrs_sims_setup\n",
    "from tso_lrs_sims_setup import wasp62_scene, wasp62_sim_config\n",
    "\n",
    "from importlib import reload"
   ]
  },
  {
   "cell_type": "markdown",
   "metadata": {},
   "source": [
    "This notebook will generate a simulated observation to support the Normal Ops data management system test run. The specifications of the programme are provided in APT proposal with PID 623 (PI: Diaz), Observation \n",
    "\n",
    "The dataset represented a MIRI LRS time series observation (TSO) of a generic stellar point source and:\n",
    "\n",
    "* NGROUPS = 60\n",
    "* NINTs = 200\n",
    "\n",
    "The target for the mock observations is WASP-62, an exoplanet host star with the following properties from [the exoplanet encyclopaedia](http://exoplanet.eu/catalog/wasp-62_b/):\n",
    "\n",
    "* spectral type F7\n",
    "* T_bb = 6230 K\n",
    "* K = 8.994\n",
    "\n",
    "K magnitude of 8.994 corresponds to a flux of 20e3 microJy at 8 micron (value obtained from the ETC), and I'll use this value for the source generation. \n",
    "\n",
    "*NOTE*: in the APT file this target is named \"FAKE SOUTH POLE\".\n",
    "\n",
    "\n",
    "### Steps in setting up the simulation\n",
    "\n",
    "This notebook will go through the following steps:\n",
    "\n",
    "* Create the scene\n",
    "* Set up the simulation\n",
    "* Run the simulation\n",
    "\n",
    "Each step has its own function. Steps 1 and 2 will each write out a .ini file, which will be used as input for the final step."
   ]
  },
  {
   "cell_type": "code",
   "execution_count": 9,
   "metadata": {},
   "outputs": [],
   "source": [
    "arr = 'SLITLESSPRISM'\n",
    "ngrp = 60\n",
    "nints = 1\n"
   ]
  },
  {
   "cell_type": "markdown",
   "metadata": {},
   "source": [
    "## Step 1: Creating the input scene (LRSTSO-NOPS6)\n",
    "\n",
    "Here we'll create the input scene for the simulations using the function wasp62_scene(). Arguments:\n",
    "\n",
    "* scene_file: the filename for the .ini file\n",
    "* write_cube: write the scene image out to a FITS file (optional; default=False)\n",
    "\n",
    "The function returns a mirisim.skysim.scenes.CompositeSkyScene object.\n"
   ]
  },
  {
   "cell_type": "code",
   "execution_count": 10,
   "metadata": {},
   "outputs": [
    {
     "name": "stderr",
     "output_type": "stream",
     "text": [
      "2019-08-08 13:46:23,773 - INFO - Initializing Point\n",
      "2019-08-08 13:46:23,775 - INFO - Initializing Background\n"
     ]
    },
    {
     "name": "stdout",
     "output_type": "stream",
     "text": [
      "Creating scene. Scene will be written to file lrstso_nops6_scene.ini\n",
      "File lrstso_nops6_scene.ini already exists. Will be overwritten.\n",
      "lrstso_nops6_scene.ini exists, overwrite (y/[n])?y\n"
     ]
    }
   ],
   "source": [
    "scene_ini = wasp62_scene(scene_file='lrstso_nops6_scene.ini', write_cube=False)"
   ]
  },
  {
   "cell_type": "code",
   "execution_count": 11,
   "metadata": {},
   "outputs": [
    {
     "name": "stdout",
     "output_type": "stream",
     "text": [
      "lrstso_nops6_scene.ini\n"
     ]
    }
   ],
   "source": [
    "print(scene_ini)"
   ]
  },
  {
   "cell_type": "markdown",
   "metadata": {},
   "source": [
    "## Step 2: Configuring the simulation\n",
    "\n",
    "Now I'll set up the simulations and prepare to run them. I'll set it up to loop through the 6 simulations. For this I wrote the function wasp62_sim_config. Check the docstring for descriptions and default values of the arguments. \n",
    "\n",
    "The function will write out another .ini file containing the simulation configuration, and it returns the output filename for further use."
   ]
  },
  {
   "cell_type": "code",
   "execution_count": 12,
   "metadata": {},
   "outputs": [
    {
     "name": "stdout",
     "output_type": "stream",
     "text": [
      "Found scene file lrstso_nops6_scene.ini\n",
      "lrstso_SLITLESSPRISM_60G1I1E_simconfig.ini\n"
     ]
    }
   ],
   "source": [
    "sim_ini = wasp62_sim_config(mode='lrs', arr=arr, ngrp=ngrp, nint=nints, nexp=1, scene_file=scene_ini, out=True)\n",
    "print(sim_ini)\n",
    "#for (a, g, i) in zip(arr, ngrp, nints):\n",
    " #   sim_ini = wasp62_sim_config(mode='lrs', arr=a, ngrp=g, nint=i, nexp=1, \n",
    " #                  scene_file=scene_ini, out=True)\n",
    " #   print(sim_ini)"
   ]
  },
  {
   "cell_type": "markdown",
   "metadata": {},
   "source": [
    "### Step 3: Run the simulation\n",
    "\n",
    "In the following step we'll run the simulations for the 6 different cases. For each run, we need 3 input files: the scene, the simulation configuration, and the simulator setup file. The first and last of these remain the same for each run, and we loop through the list of 6 simulation config files.\n",
    "\n",
    "After the simulation has run, the code renames the output directory to include the simulation settings to the directory.\n"
   ]
  },
  {
   "cell_type": "code",
   "execution_count": 14,
   "metadata": {},
   "outputs": [
    {
     "name": "stderr",
     "output_type": "stream",
     "text": [
      "2019-08-08 13:47:43,285 - INFO - Using simulation configuration: lrstso_SLITLESSPRISM_60G1I1E_simconfig.ini\n",
      "2019-08-08 13:47:43,291 - INFO - Using scene configuration: lrstso_nops6_scene.ini\n",
      "2019-08-08 13:47:43,297 - INFO - MIRISim version: 2.1.0\n",
      "2019-08-08 13:47:43,299 - INFO - MIRI Simulation started.\n",
      "2019-08-08 13:47:43,300 - INFO - Output will be saved to: 20190808_134743_mirisim\n",
      "2019-08-08 13:47:43,305 - INFO - Storing configs in output directory.\n",
      "2019-08-08 13:47:43,310 - INFO - Using $CDP_DIR for location of CDP files: /Users/kendrew//CDP\n",
      "2019-08-08 13:47:43,311 - INFO - Setting up simulated Observation, with following settings:\n",
      "2019-08-08 13:47:43,315 - INFO - Configuration Path: LRS_SLITLESS\n",
      "2019-08-08 13:47:43,318 - INFO - Primary optical path: IMA\n",
      "2019-08-08 13:47:43,321 - INFO - IMA Filter: P750L\n",
      "2019-08-08 13:47:43,325 - INFO - IMA Subarray: SLITLESSPRISM\n",
      "2019-08-08 13:47:43,330 - INFO - IMA detector readout mode: FAST\n",
      "2019-08-08 13:47:43,333 - INFO - IMA detector # exposures: 1\n",
      "2019-08-08 13:47:43,336 - INFO - IMA detector # integrations: 1\n",
      "2019-08-08 13:47:43,337 - INFO - IMA detector # frames: 60\n",
      "2019-08-08 13:47:43,341 - INFO - Parsing: Background\n",
      "2019-08-08 13:47:43,344 - INFO - Initializing Background\n",
      "2019-08-08 13:47:43,346 - INFO - Parsing: point_1\n",
      "2019-08-08 13:47:43,347 - INFO - Initializing Point\n",
      "2019-08-08 13:47:43,349 - INFO - Simulating a single pointing.\n",
      "2019-08-08 13:47:43,352 - INFO - Reading 'DISTORTION' model from '/Users/kendrew//CDP/MIRI_FM_MIRIMAGE_P750L_DISTORTION_07.02.00.fits'\n",
      "2019-08-08 13:47:43,507 - ERROR - Invalid cdp for lrs distortion : MIRI_FM_MIRIMAGE_P750L_DISTORTION_07.02.00.fits\n"
     ]
    },
    {
     "ename": "Exception",
     "evalue": "Invalid  cdp for lrs distortion",
     "output_type": "error",
     "traceback": [
      "\u001b[0;31m---------------------------------------------------------------------------\u001b[0m",
      "\u001b[0;31mException\u001b[0m                                 Traceback (most recent call last)",
      "\u001b[0;32m<ipython-input-14-2c4c93c0b638>\u001b[0m in \u001b[0;36m<module>\u001b[0;34m()\u001b[0m\n\u001b[1;32m      8\u001b[0m     \u001b[0mfcomps\u001b[0m \u001b[0;34m=\u001b[0m \u001b[0mtmp\u001b[0m\u001b[0;34m[\u001b[0m\u001b[0;36m0\u001b[0m\u001b[0;34m]\u001b[0m\u001b[0;34m.\u001b[0m\u001b[0msplit\u001b[0m\u001b[0;34m(\u001b[0m\u001b[0;34m'_'\u001b[0m\u001b[0;34m)\u001b[0m\u001b[0;34m\u001b[0m\u001b[0m\n\u001b[1;32m      9\u001b[0m     \u001b[0msim\u001b[0m \u001b[0;34m=\u001b[0m \u001b[0mMiriSimulation\u001b[0m\u001b[0;34m.\u001b[0m\u001b[0mfrom_configfiles\u001b[0m\u001b[0;34m(\u001b[0m\u001b[0mf\u001b[0m\u001b[0;34m)\u001b[0m\u001b[0;34m\u001b[0m\u001b[0m\n\u001b[0;32m---> 10\u001b[0;31m     \u001b[0msim\u001b[0m\u001b[0;34m.\u001b[0m\u001b[0mrun\u001b[0m\u001b[0;34m(\u001b[0m\u001b[0;34m)\u001b[0m\u001b[0;34m\u001b[0m\u001b[0m\n\u001b[0m\u001b[1;32m     11\u001b[0m     \u001b[0moutdir\u001b[0m \u001b[0;34m=\u001b[0m \u001b[0msorted\u001b[0m\u001b[0;34m(\u001b[0m\u001b[0mglob\u001b[0m\u001b[0;34m.\u001b[0m\u001b[0mglob\u001b[0m\u001b[0;34m(\u001b[0m\u001b[0;34m'*_*_mirisim'\u001b[0m\u001b[0;34m)\u001b[0m\u001b[0;34m,\u001b[0m \u001b[0mkey\u001b[0m\u001b[0;34m=\u001b[0m\u001b[0mos\u001b[0m\u001b[0;34m.\u001b[0m\u001b[0mpath\u001b[0m\u001b[0;34m.\u001b[0m\u001b[0mgetmtime\u001b[0m \u001b[0;34m)\u001b[0m\u001b[0;34m[\u001b[0m\u001b[0;34m-\u001b[0m\u001b[0;36m1\u001b[0m\u001b[0;34m]\u001b[0m\u001b[0;34m\u001b[0m\u001b[0m\n\u001b[1;32m     12\u001b[0m     \u001b[0mnew_outdir\u001b[0m \u001b[0;34m=\u001b[0m \u001b[0;34m'lrstso_nops6_{1}_{2}'\u001b[0m\u001b[0;34m.\u001b[0m\u001b[0mformat\u001b[0m\u001b[0;34m(\u001b[0m\u001b[0mfcomps\u001b[0m\u001b[0;34m[\u001b[0m\u001b[0;36m2\u001b[0m\u001b[0;34m]\u001b[0m\u001b[0;34m,\u001b[0m \u001b[0moutdir\u001b[0m\u001b[0;34m)\u001b[0m\u001b[0;34m\u001b[0m\u001b[0m\n",
      "\u001b[0;32m~/anaconda3/envs/mirisim/lib/python3.5/site-packages/mirisim/mirisimulation.py\u001b[0m in \u001b[0;36mrun\u001b[0;34m(self)\u001b[0m\n\u001b[1;32m    221\u001b[0m         simulation = ObservationSimulation(\n\u001b[1;32m    222\u001b[0m             \u001b[0mself\u001b[0m\u001b[0;34m.\u001b[0m\u001b[0msim_config\u001b[0m\u001b[0;34m,\u001b[0m \u001b[0mself\u001b[0m\u001b[0;34m.\u001b[0m\u001b[0mscene_config\u001b[0m\u001b[0;34m,\u001b[0m \u001b[0mself\u001b[0m\u001b[0;34m.\u001b[0m\u001b[0msimulator_config\u001b[0m\u001b[0;34m,\u001b[0m\u001b[0;34m\u001b[0m\u001b[0m\n\u001b[0;32m--> 223\u001b[0;31m             self.path_out, self.path_cdp)\n\u001b[0m\u001b[1;32m    224\u001b[0m         \u001b[0msimulation\u001b[0m\u001b[0;34m.\u001b[0m\u001b[0mrun\u001b[0m\u001b[0;34m(\u001b[0m\u001b[0;34m)\u001b[0m\u001b[0;34m\u001b[0m\u001b[0m\n\u001b[1;32m    225\u001b[0m \u001b[0;34m\u001b[0m\u001b[0m\n",
      "\u001b[0;32m~/anaconda3/envs/mirisim/lib/python3.5/site-packages/mirisim/obssim/obssim.py\u001b[0m in \u001b[0;36m__init__\u001b[0;34m(self, sim_config, scene_config, simulator_config, path_out, path_cdp)\u001b[0m\n\u001b[1;32m     76\u001b[0m \u001b[0;34m\u001b[0m\u001b[0m\n\u001b[1;32m     77\u001b[0m         \u001b[0;31m# Setup the simulation\u001b[0m\u001b[0;34m\u001b[0m\u001b[0;34m\u001b[0m\u001b[0m\n\u001b[0;32m---> 78\u001b[0;31m         \u001b[0mself\u001b[0m\u001b[0;34m.\u001b[0m\u001b[0msetup\u001b[0m\u001b[0;34m(\u001b[0m\u001b[0;34m)\u001b[0m\u001b[0;34m\u001b[0m\u001b[0m\n\u001b[0m\u001b[1;32m     79\u001b[0m \u001b[0;34m\u001b[0m\u001b[0m\n\u001b[1;32m     80\u001b[0m     \u001b[0;32mdef\u001b[0m \u001b[0minit_vars\u001b[0m\u001b[0;34m(\u001b[0m\u001b[0mself\u001b[0m\u001b[0;34m)\u001b[0m\u001b[0;34m:\u001b[0m\u001b[0;34m\u001b[0m\u001b[0m\n",
      "\u001b[0;32m~/anaconda3/envs/mirisim/lib/python3.5/site-packages/mirisim/obssim/obssim.py\u001b[0m in \u001b[0;36msetup\u001b[0;34m(self)\u001b[0m\n\u001b[1;32m    283\u001b[0m             \u001b[0mmrs_ref_channel\u001b[0m\u001b[0;34m=\u001b[0m\u001b[0mself\u001b[0m\u001b[0;34m.\u001b[0m\u001b[0mdither_ref_chan\u001b[0m\u001b[0;34m,\u001b[0m \u001b[0mmrs_ref_band\u001b[0m\u001b[0;34m=\u001b[0m\u001b[0mself\u001b[0m\u001b[0;34m.\u001b[0m\u001b[0mdither_ref_band\u001b[0m\u001b[0;34m,\u001b[0m\u001b[0;34m\u001b[0m\u001b[0m\n\u001b[1;32m    284\u001b[0m             \u001b[0mfilter_name\u001b[0m\u001b[0;34m=\u001b[0m\u001b[0mself\u001b[0m\u001b[0;34m.\u001b[0m\u001b[0mima_filter\u001b[0m\u001b[0;34m,\u001b[0m \u001b[0mseed_jitter\u001b[0m\u001b[0;34m=\u001b[0m\u001b[0mself\u001b[0m\u001b[0;34m.\u001b[0m\u001b[0mseed_jitter\u001b[0m\u001b[0;34m,\u001b[0m\u001b[0;34m\u001b[0m\u001b[0m\n\u001b[0;32m--> 285\u001b[0;31m             simulator_config=self.simulator_config)\n\u001b[0m\u001b[1;32m    286\u001b[0m \u001b[0;34m\u001b[0m\u001b[0m\n\u001b[1;32m    287\u001b[0m         \u001b[0;31m# From sequence of pointings, create a sequence of Exposure and Offset events\u001b[0m\u001b[0;34m\u001b[0m\u001b[0;34m\u001b[0m\u001b[0m\n",
      "\u001b[0;32m~/anaconda3/envs/mirisim/lib/python3.5/site-packages/mirisim/obssim/pointing.py\u001b[0m in \u001b[0;36mget_pointings_from_dither_pattern\u001b[0;34m(ra, dec, pa, ditherpattern, ind_start, ndither, cfgpath, jitter, jitteramp, mrs_ref_channel, mrs_ref_band, filter_name, sequential, seed_jitter, simulator_config)\u001b[0m\n\u001b[1;32m    293\u001b[0m         \u001b[0;32mif\u001b[0m \u001b[0mcfgpath\u001b[0m\u001b[0;34m.\u001b[0m\u001b[0mstartswith\u001b[0m\u001b[0;34m(\u001b[0m\u001b[0;34m\"LRS\"\u001b[0m\u001b[0;34m)\u001b[0m\u001b[0;34m:\u001b[0m\u001b[0;34m\u001b[0m\u001b[0m\n\u001b[1;32m    294\u001b[0m             \u001b[0;31m# Get the (v2,v3) dither reference position for specified cfgpath.\u001b[0m\u001b[0;34m\u001b[0m\u001b[0;34m\u001b[0m\u001b[0m\n\u001b[0;32m--> 295\u001b[0;31m             \u001b[0mv2_dref\u001b[0m\u001b[0;34m,\u001b[0m \u001b[0mv3_dref\u001b[0m \u001b[0;34m=\u001b[0m \u001b[0mget_lrs_v2v3_ref\u001b[0m\u001b[0;34m(\u001b[0m\u001b[0mcfgpath\u001b[0m\u001b[0;34m,\u001b[0m \u001b[0msimulator_config\u001b[0m\u001b[0;34m=\u001b[0m\u001b[0msimulator_config\u001b[0m\u001b[0;34m)\u001b[0m\u001b[0;34m\u001b[0m\u001b[0m\n\u001b[0m\u001b[1;32m    296\u001b[0m         \u001b[0;31m# Otherwise, assume it is a pattern for IMA:\u001b[0m\u001b[0;34m\u001b[0m\u001b[0;34m\u001b[0m\u001b[0m\n\u001b[1;32m    297\u001b[0m         \u001b[0;32melse\u001b[0m\u001b[0;34m:\u001b[0m\u001b[0;34m\u001b[0m\u001b[0m\n",
      "\u001b[0;32m~/anaconda3/envs/mirisim/lib/python3.5/site-packages/mirisim/imsim/ima.py\u001b[0m in \u001b[0;36mget_lrs_v2v3_ref\u001b[0;34m(cfgpath, simulator_config)\u001b[0m\n\u001b[1;32m    548\u001b[0m     \u001b[0;31m# should (initially) be centered on.\u001b[0m\u001b[0;34m\u001b[0m\u001b[0;34m\u001b[0m\u001b[0m\n\u001b[1;32m    549\u001b[0m \u001b[0;34m\u001b[0m\u001b[0m\n\u001b[0;32m--> 550\u001b[0;31m     \u001b[0mcol_ref\u001b[0m\u001b[0;34m,\u001b[0m \u001b[0mrow_ref\u001b[0m \u001b[0;34m=\u001b[0m \u001b[0mget_lrs_ref_colrow\u001b[0m\u001b[0;34m(\u001b[0m\u001b[0mcfgpath\u001b[0m\u001b[0;34m)\u001b[0m\u001b[0;34m\u001b[0m\u001b[0m\n\u001b[0m\u001b[1;32m    551\u001b[0m     \u001b[0;31m# Next, convert the LRS reference subarray column,row position\u001b[0m\u001b[0;34m\u001b[0m\u001b[0;34m\u001b[0m\u001b[0m\n\u001b[1;32m    552\u001b[0m     \u001b[0;31m# to JWST focal plane (v2,v3). These transformations are encoded\u001b[0m\u001b[0;34m\u001b[0m\u001b[0;34m\u001b[0m\u001b[0m\n",
      "\u001b[0;32m~/anaconda3/envs/mirisim/lib/python3.5/site-packages/mirisim/imsim/imasubarrayinfo.py\u001b[0m in \u001b[0;36mget_lrs_ref_colrow\u001b[0;34m(cfgpath, simulator_config)\u001b[0m\n\u001b[1;32m    312\u001b[0m     \u001b[0;32mif\u001b[0m \u001b[0;34m(\u001b[0m \u001b[0msubarray_column\u001b[0m \u001b[0;32mis\u001b[0m \u001b[0;32mNone\u001b[0m\u001b[0;34m)\u001b[0m\u001b[0;34m:\u001b[0m\u001b[0;34m\u001b[0m\u001b[0m\n\u001b[1;32m    313\u001b[0m         \u001b[0mlogger\u001b[0m\u001b[0;34m.\u001b[0m\u001b[0merror\u001b[0m\u001b[0;34m(\u001b[0m\u001b[0;34m'Invalid cdp for lrs distortion : {0}'\u001b[0m\u001b[0;34m.\u001b[0m\u001b[0mformat\u001b[0m\u001b[0;34m(\u001b[0m\u001b[0mlrs_dist\u001b[0m\u001b[0;34m.\u001b[0m\u001b[0mmeta\u001b[0m\u001b[0;34m.\u001b[0m\u001b[0mfilename\u001b[0m\u001b[0;34m)\u001b[0m\u001b[0;34m)\u001b[0m\u001b[0;34m\u001b[0m\u001b[0m\n\u001b[0;32m--> 314\u001b[0;31m         \u001b[0;32mraise\u001b[0m \u001b[0mException\u001b[0m\u001b[0;34m(\u001b[0m\u001b[0;34m'Invalid  cdp for lrs distortion'\u001b[0m\u001b[0;34m)\u001b[0m\u001b[0;34m\u001b[0m\u001b[0m\n\u001b[0m\u001b[1;32m    315\u001b[0m \u001b[0;34m\u001b[0m\u001b[0m\n\u001b[1;32m    316\u001b[0m     \u001b[0msubarray_column\u001b[0m  \u001b[0;34m=\u001b[0m \u001b[0msubarray_column\u001b[0m  \u001b[0;34m-\u001b[0m\u001b[0;36m4\u001b[0m \u001b[0;34m-\u001b[0m\u001b[0;36m1\u001b[0m\u001b[0;34m\u001b[0m\u001b[0m\n",
      "\u001b[0;31mException\u001b[0m: Invalid  cdp for lrs distortion"
     ]
    }
   ],
   "source": [
    "cfg_files = glob.glob('lrstso_*_simconfig.ini')\n",
    "\n",
    "# configure the simulator engine - this requires no editing from the default\n",
    "simulator_config = SimulatorConfig.from_default()\n",
    "\n",
    "for f in cfg_files[:1]:\n",
    "    tmp = f.split('.')\n",
    "    fcomps = tmp[0].split('_')\n",
    "    sim = MiriSimulation.from_configfiles(f)\n",
    "    sim.run()\n",
    "    outdir = sorted(glob.glob('*_*_mirisim'), key=os.path.getmtime )[-1]\n",
    "    new_outdir = 'lrstso_nops6_{1}_{2}'.format(fcomps[2], outdir)\n",
    "    os.rename(outdir, new_outdir)\n",
    "    print(outdir, new_outdir)\n"
   ]
  },
  {
   "cell_type": "code",
   "execution_count": null,
   "metadata": {},
   "outputs": [],
   "source": []
  }
 ],
 "metadata": {
  "kernelspec": {
   "display_name": "Python 3",
   "language": "python",
   "name": "python3"
  },
  "language_info": {
   "codemirror_mode": {
    "name": "ipython",
    "version": 3
   },
   "file_extension": ".py",
   "mimetype": "text/x-python",
   "name": "python",
   "nbconvert_exporter": "python",
   "pygments_lexer": "ipython3",
   "version": "3.5.5"
  }
 },
 "nbformat": 4,
 "nbformat_minor": 2
}
