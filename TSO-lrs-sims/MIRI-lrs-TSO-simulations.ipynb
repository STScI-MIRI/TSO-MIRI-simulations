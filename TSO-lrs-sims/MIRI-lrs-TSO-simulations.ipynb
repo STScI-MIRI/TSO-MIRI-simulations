{
 "cells": [
  {
   "cell_type": "code",
   "execution_count": 1,
   "metadata": {},
   "outputs": [],
   "source": [
    "%load_ext autoreload\n",
    "%autoreload"
   ]
  },
  {
   "cell_type": "code",
   "execution_count": 3,
   "metadata": {},
   "outputs": [],
   "source": [
    "import numpy as np\n",
    "import matplotlib.pyplot as plt\n",
    "import os\n",
    "import glob\n",
    "from mirisim.config_parser import SimulatorConfig\n",
    "from mirisim import MiriSimulation\n",
    "import tso_lrs_sims_setup\n",
    "from tso_lrs_sims_setup import wasp62_scene, wasp62_sim_config\n",
    "\n",
    "from importlib import reload"
   ]
  },
  {
   "cell_type": "markdown",
   "metadata": {},
   "source": [
    "In this notebook I'm going to generate simulated MIRI time series LRS (slitless) data, for data management & pipeline testing purposes. To install Mirisim, see the [the public release webpage](http://miri.ster.kuleuven.be/bin/view/Public/MIRISim_Public). The target for the mock observations is WASP-62, an exoplanet host star with the following properties from [the exoplanet encyclopaedia](http://exoplanet.eu/catalog/wasp-62_b/):\n",
    "\n",
    "* spectral type F7\n",
    "* T_bb = 6230 K\n",
    "* K = 8.994\n",
    "\n",
    "K magnitude of 8.994 corresponds to a flux of 20e3 microJy at 8 micron (value obtained from the ETC), and I'll use this value for the source generation.\n",
    "\n",
    "Using the ETC, I calculated the following number of groups for a high-SNR but unsaturated image:\n",
    "ngrps = 100\n",
    "\n",
    "Three simulations will be executed, for a short, intermediate-duration and long exposure. The number of groups will be the same for all 3, as will the number of exposures (nexp = 1). The numbers of integrations will be 1, 200 and 2000 for each case respectively.\n",
    "\n",
    "### Steps in setting up the simulation\n",
    "\n",
    "This notebook will go through the following steps:\n",
    "\n",
    "* Create the scene\n",
    "* Set up the simulation\n",
    "* Run the simulation\n",
    "\n",
    "Each step has its own function. Steps 1 and 2 will each write out a .ini file, which will be used as input for the final step."
   ]
  },
  {
   "cell_type": "code",
   "execution_count": 11,
   "metadata": {},
   "outputs": [],
   "source": [
    "arr = ['SLITLESSPRISM'] * 3\n",
    "ngrp = [100] * 3\n",
    "nints = [1, 200, 2000]\n"
   ]
  },
  {
   "cell_type": "markdown",
   "metadata": {},
   "source": [
    "## Step 1: Creating the input scene (WASP-62)\n",
    "\n",
    "Here we'll create the input scene for the simulations using the function wasp62_scene(). Arguments:\n",
    "\n",
    "* scene_file: the filename for the .ini file\n",
    "* write_cube: write the scene image out to a FITS file (optional; default=False)\n",
    "\n",
    "The function returns a mirisim.skysim.scenes.CompositeSkyScene object.\n"
   ]
  },
  {
   "cell_type": "code",
   "execution_count": 12,
   "metadata": {},
   "outputs": [
    {
     "name": "stderr",
     "output_type": "stream",
     "text": [
      "2019-02-15 15:27:20,883 - INFO - Initializing Point\n",
      "2019-02-15 15:27:20,887 - INFO - Initializing Background\n"
     ]
    },
    {
     "name": "stdout",
     "output_type": "stream",
     "text": [
      "Creating scene. Scene will be written to file wasp62_scene.ini\n",
      "File wasp62_scene.ini already exists. Will be overwritten.\n",
      "wasp62_scene.ini exists, overwrite (y/[n])?y\n"
     ]
    }
   ],
   "source": [
    "scene_ini = wasp62_scene(scene_file='wasp62_scene.ini', write_cube=False)"
   ]
  },
  {
   "cell_type": "code",
   "execution_count": 13,
   "metadata": {},
   "outputs": [
    {
     "name": "stdout",
     "output_type": "stream",
     "text": [
      "wasp62_scene.ini\n"
     ]
    }
   ],
   "source": [
    "print(scene_ini)"
   ]
  },
  {
   "cell_type": "markdown",
   "metadata": {},
   "source": [
    "## Step 2: Configuring the simulation\n",
    "\n",
    "Now I'll set up the simulations and prepare to run them. I'll set it up to loop through the 6 simulations. For this I wrote the function wasp62_sim_config. Check the docstring for descriptions and default values of the arguments. \n",
    "\n",
    "The function will write out another .ini file containing the simulation configuration, and it returns the output filename for further use."
   ]
  },
  {
   "cell_type": "code",
   "execution_count": 14,
   "metadata": {},
   "outputs": [
    {
     "name": "stdout",
     "output_type": "stream",
     "text": [
      "Found scene file wasp62_scene.ini\n",
      "wasp62_SLITLESSPRISM_100G1I1E_simconfig.ini\n",
      "Found scene file wasp62_scene.ini\n",
      "wasp62_SLITLESSPRISM_100G200I1E_simconfig.ini\n",
      "Found scene file wasp62_scene.ini\n",
      "wasp62_SLITLESSPRISM_100G2000I1E_simconfig.ini\n"
     ]
    }
   ],
   "source": [
    "for (a, g, i) in zip(arr, ngrp, nints):\n",
    "    sim_ini = wasp62_sim_config(mode='lrs', arr=a, ngrp=g, nint=i, nexp=1, \n",
    "                   scene_file=scene_ini, out=True)\n",
    "    print(sim_ini)"
   ]
  },
  {
   "cell_type": "markdown",
   "metadata": {},
   "source": [
    "### Step 3: Run the simulation\n",
    "\n",
    "In the following step we'll run the simulations for the 6 different cases. For each run, we need 3 input files: the scene, the simulation configuration, and the simulator setup file. The first and last of these remain the same for each run, and we loop through the list of 6 simulation config files.\n",
    "\n",
    "After the simulation has run, the code renames the output directory to include the simulation settings to the directory.\n"
   ]
  },
  {
   "cell_type": "code",
   "execution_count": 10,
   "metadata": {},
   "outputs": [
    {
     "name": "stderr",
     "output_type": "stream",
     "text": [
      "2019-02-15 14:35:54,846 - INFO - Using simulation configuration: wasp62_SLITLESSPRISM_60G1I1E_simconfig.ini\n",
      "2019-02-15 14:35:54,850 - INFO - Using scene configuration: wasp62_scene.ini\n",
      "2019-02-15 14:35:54,857 - INFO - MIRISim version: 2.0.0\n",
      "2019-02-15 14:35:54,859 - INFO - MIRI Simulation started.\n",
      "2019-02-15 14:35:54,860 - INFO - Output will be saved to: 20190215_143554_mirisim\n",
      "2019-02-15 14:35:54,862 - INFO - Storing configs in output directory.\n",
      "2019-02-15 14:35:55,834 - INFO - Using $CDP_DIR for location of CDP files: /Users/kendrew//CDP\n",
      "2019-02-15 14:35:55,994 - INFO - Reading cosmic ray properties from parameter file /Users/kendrew/anaconda3/envs/mirisim/lib/python3.5/site-packages/miri/simulators/scasim/cosmic_ray_properties.py\n",
      "2019-02-15 14:35:56,003 - INFO - Reading detector properties from parameter file /Users/kendrew/anaconda3/envs/mirisim/lib/python3.5/site-packages/miri/simulators/scasim/detector_properties.py\n",
      "2019-02-15 14:35:56,090 - INFO - Setting up simulated Observation, with following settings:\n",
      "2019-02-15 14:35:56,092 - INFO - Configuration Path: LRS_SLITLESS\n",
      "2019-02-15 14:35:56,094 - INFO - Primary optical path: IMA\n",
      "2019-02-15 14:35:56,097 - INFO - IMA Filter: P750L\n",
      "2019-02-15 14:35:56,101 - INFO - IMA Subarray: SLITLESSPRISM\n",
      "2019-02-15 14:35:56,104 - INFO - IMA detector readout mode: FAST\n",
      "2019-02-15 14:35:56,106 - INFO - IMA detector # exposures: 1\n",
      "2019-02-15 14:35:56,108 - INFO - IMA detector # integrations: 1\n",
      "2019-02-15 14:35:56,109 - INFO - IMA detector # frames: 60\n",
      "2019-02-15 14:35:56,125 - INFO - Parsing: Background\n",
      "2019-02-15 14:35:56,127 - INFO - Initializing Background\n",
      "2019-02-15 14:35:56,131 - INFO - Parsing: point_1\n",
      "2019-02-15 14:35:56,135 - INFO - Initializing Point\n",
      "2019-02-15 14:35:56,144 - INFO - Simulating a single pointing.\n",
      "INFO:paramiko.transport:Connected (version 2.0, client OpenSSH_5.3)\n",
      "INFO:paramiko.transport:Authentication (password) successful!\n",
      "INFO:paramiko.transport.sftp:[chan 0] Opened sftp connection (server version 3)\n",
      "2019-02-15 14:36:21,525 - INFO - Reading 'DISTORTION' model from '/Users/kendrew//CDP/MIRI_FM_MIRIMAGE_P750L_DISTORTION_7B.02.00.fits'\n",
      "2019-02-15 14:36:22,121 - INFO - Reading 'DISTORTION' model from '/Users/kendrew//CDP/MIRI_FM_MIRIMAGE_DISTORTION_7B.03.00.fits'\n",
      "2019-02-15 14:36:22,523 - INFO - Reading 'DISTORTION' model from '/Users/kendrew//CDP/MIRI_FM_MIRIMAGE_DISTORTION_7B.03.00.fits'\n",
      "2019-02-15 14:36:22,809 - INFO - Reading 'DISTORTION' model from '/Users/kendrew//CDP/MIRI_FM_MIRIMAGE_DISTORTION_7B.03.00.fits'\n",
      "2019-02-15 14:36:23,003 - INFO - Reading 'DISTORTION' model from '/Users/kendrew//CDP/MIRI_FM_MIRIMAGE_P750L_DISTORTION_7B.02.00.fits'\n",
      "2019-02-15 14:36:23,412 - INFO - Creating pointing for position 1\n",
      "2019-02-15 14:36:23,413 - INFO - Creating exposure event for position 1\n",
      "2019-02-15 14:36:23,417 - INFO - Reading 'DISTORTION' model from '/Users/kendrew//CDP/MIRI_FM_MIRIMAGE_P750L_DISTORTION_7B.02.00.fits'\n",
      "2019-02-15 14:36:23,661 - INFO - Reading 'DISTORTION' model from '/Users/kendrew//CDP/MIRI_FM_MIRIMAGE_DISTORTION_7B.03.00.fits'\n",
      "2019-02-15 14:36:24,057 - INFO - Observation simulation started.\n",
      "2019-02-15 14:36:24,058 - INFO - Simulating ExposureEvent for pointing 1\n",
      "2019-02-15 14:36:24,059 - INFO - Simulating Lrs exposures for pointing 1\n",
      "2019-02-15 14:36:24,060 - INFO - Simulating detector illumination for Lrs exposures for pointing 1\n",
      "2019-02-15 14:36:24,061 - INFO - lrs simulator processing  cfgpath=LRS_SLITLESS\n",
      "2019-02-15 14:36:24,062 - INFO - lrssim takes CDP PSF\n",
      "2019-02-15 14:36:24,067 - INFO - Reading 'DISTORTION' model from '/Users/kendrew//CDP/MIRI_FM_MIRIMAGE_P750L_DISTORTION_7B.02.00.fits'\n",
      "2019-02-15 14:36:24,506 - INFO - Retrieving PCE CDP for filter : P750L_SLITLESSPRISM\n",
      "2019-02-15 14:36:24,524 - INFO - Reading 'PCE' model from '/Users/kendrew//CDP/MIRI_FM_MIRIMAGE_P750L_SLITLESSPRISM_PCE_06.00.00.fits'\n",
      "2019-02-15 14:36:24,728 - INFO - Reading 'AREA' model from '/Users/kendrew//CDP/MIRI_FM_MIRIMAGE_AREA_06.00.00.fits'\n",
      "2019-02-15 14:36:24,959 - INFO - v2_ref= -378.749265, v3_ref=-344.544299 , v2_off=0.000000, v3_off=0.000000, pa=0.000000\n",
      "2019-02-15 14:36:24,975 - INFO - Reading 'DISTORTION' model from '/Users/kendrew//CDP/MIRI_FM_MIRIMAGE_DISTORTION_7B.03.00.fits'\n",
      "2019-02-15 14:36:25,512 - INFO - Reading 'DISTORTION' model from '/Users/kendrew//CDP/MIRI_FM_MIRIMAGE_DISTORTION_7B.03.00.fits'\n",
      "2019-02-15 14:36:25,704 - INFO - Reading 'DISTORTION' model from '/Users/kendrew//CDP/MIRI_FM_MIRIMAGE_P750L_DISTORTION_7B.02.00.fits'\n",
      "2019-02-15 14:36:26,748 - INFO - Reading 'PSF' model from '/Users/kendrew//CDP/MIRI_FM_MIRIMAGE_P750L_SLITLESSPRISM_PSF_06.02.00.fits'\n",
      "2019-02-15 14:36:26,905 - INFO - Retrieving file for Lrs Array Mask: FocalPlaneMask\n",
      "2019-02-15 14:36:26,947 - INFO - 1 point sources in scene\n",
      "2019-02-15 14:36:26,948 - INFO - point source no: 0\n",
      "2019-02-15 14:36:26,951 - INFO - lrs simulator processing in get_point_int in mirisim.lrssim.lrs\n",
      "2019-02-15 14:36:27,435 - INFO - no extended sources are computed\n",
      "2019-02-15 14:36:27,437 - INFO - lrs simulator processing in extract_sky_cube in mirisim.lrssim.lrs\n",
      "2019-02-15 14:36:27,437 - INFO - no scenecube sources in scene\n",
      "2019-02-15 14:36:27,438 - INFO - no fits skyCube sources are computed\n",
      "2019-02-15 14:36:27,439 - INFO - calculate background for slitless mode\n",
      "2019-02-15 14:36:27,502 - INFO - lrs simulator processing in get_background_from_scene_lrs_extend in mirisim.lrssim.lrs_extend\n",
      "2019-02-15 14:36:27,505 - INFO - 1 backgrounds available in scene\n",
      "2019-02-15 14:36:27,511 - INFO - Retrieving PCE CDP for filter : P750L_SLITLESSPRISM\n",
      "2019-02-15 14:36:27,514 - INFO - Reading 'PCE' model from '/Users/kendrew//CDP/MIRI_FM_MIRIMAGE_P750L_SLITLESSPRISM_PCE_06.00.00.fits'\n",
      "2019-02-15 14:43:28,231 - INFO - Wrote illumination model: 20190215_143554_mirisim/illum_models/illum_model_1_MIRIMAGE_P750L.fits\n",
      "2019-02-15 14:43:28,233 - INFO - Simulating integrated detector images for Lrs exposures for pointing 1\n",
      "2019-02-15 14:43:28,236 - INFO - Simulating LRS exposure 1\n",
      "2019-02-15 14:43:28,240 - INFO - Running SCASim\n",
      "2019-02-15 14:43:28,241 - INFO - Simulating  detector readout for MIRIMAGE from illumination data model of shape (416, 77).\n",
      "2019-02-15 14:43:28,267 - INFO - Results will be returned in an exposure data model.\n",
      "2019-02-15 14:43:28,296 - INFO -   Detector readout mode is FAST (samplesum=1, sampleskip=0, nframe=1, groupgap=0) \n",
      "  with 1 integrations and ngroups=60 defined explicitly.\n",
      "  Detector subarray mode is SLITLESSPRISM (529 1 416 72).\n",
      "2019-02-15 14:43:28,297 - INFO - Detector temperature = 6.70 K (which affects dark current and read noise).\n",
      "2019-02-15 14:43:28,298 - INFO - Cosmic ray environment is SOLAR_MIN.\n",
      "2019-02-15 14:43:28,302 - INFO - Reading cosmic ray library file: '/Users/kendrew/anaconda3/envs/mirisim/lib/python3.5/site-packages/miri/simulators/data/cosmic_rays/CRs_SiAs_470_SUNMIN_00.fits'\n",
      "2019-02-15 14:43:28,362 - INFO - Simulation control flags:\n",
      "\tQuantum efficiency simulation turned OFF.\n",
      "\tPoisson noise simulation turned ON.\n",
      "\tRead noise simulation turned ON.\n",
      "\tReference pixels simulation turned ON.\n",
      "\tBad pixels simulation turned ON.\n",
      "\tDark current simulation turned ON.\n",
      "\tFlat-field simulation turned ON.\n",
      "\tAmplifier bias and gain turned ON.\n",
      "\tDetector non-linearity effects turned ON.\n",
      "\tDetector drift effects turned ON.\n",
      "\tDetector latency effects turned ON.\n",
      "2019-02-15 14:43:28,363 - INFO - Creating a new detector object for 1024 rows x 1024 columns.\n",
      "INFO:paramiko.transport.sftp:[chan 0] sftp session closed.\n",
      "INFO:paramiko.transport:Connected (version 2.0, client OpenSSH_5.3)\n",
      "INFO:paramiko.transport:Authentication (password) successful!\n",
      "INFO:paramiko.transport.sftp:[chan 0] Opened sftp connection (server version 3)\n",
      "2019-02-15 14:43:44,191 - INFO - Reading 'MASK' model from '/Users/kendrew//CDP/MIRI_FM_MIRIMAGE_MASK_06.02.00.fits'\n",
      "INFO:paramiko.transport.sftp:[chan 0] sftp session closed.\n",
      "INFO:paramiko.transport:Connected (version 2.0, client OpenSSH_5.3)\n",
      "INFO:paramiko.transport:Authentication (password) successful!\n",
      "INFO:paramiko.transport.sftp:[chan 0] Opened sftp connection (server version 3)\n",
      "2019-02-15 14:44:02,537 - INFO - Reading 'GAIN' model from '/Users/kendrew//CDP/MIRI_FM_MIRIMAGE_GAIN_04.00.00.fits'\n",
      "INFO:paramiko.transport.sftp:[chan 0] sftp session closed.\n",
      "INFO:paramiko.transport:Connected (version 2.0, client OpenSSH_5.3)\n",
      "INFO:paramiko.transport:Authentication (password) successful!\n",
      "INFO:paramiko.transport.sftp:[chan 0] Opened sftp connection (server version 3)\n",
      "2019-02-15 14:44:09,053 - INFO - Reading DARK model from '/Users/kendrew//CDP/MIRI_FM_MIRIMAGE_FAST_SLITLESSPRISM_DARK_06.01.00.fits'\n",
      "INFO:paramiko.transport.sftp:[chan 0] sftp session closed.\n",
      "INFO:paramiko.transport:Connected (version 2.0, client OpenSSH_5.3)\n",
      "INFO:paramiko.transport:Authentication (password) successful!\n",
      "INFO:paramiko.transport.sftp:[chan 0] Opened sftp connection (server version 3)\n",
      "INFO:paramiko.transport.sftp:[chan 0] sftp session closed.\n",
      "INFO:paramiko.transport:Connected (version 2.0, client OpenSSH_5.3)\n",
      "INFO:paramiko.transport:Authentication (password) successful!\n",
      "INFO:paramiko.transport.sftp:[chan 0] Opened sftp connection (server version 3)\n",
      "2019-02-15 14:44:35,038 - INFO - Reading 'PIXELFLAT' model from '/Users/kendrew//CDP/MIRI_FM_MIRIMAGE_P750L_SLITLESSPRISM_PIXELFLAT_06.01.00.fits'\n",
      "2019-02-15 14:44:35,227 - WARNING - Could not find exact match for pixel flat-field for detector MIRIMAGE with FAST mode with filter='P750L'. An alternative is being used.\n",
      "INFO:paramiko.transport.sftp:[chan 0] sftp session closed.\n",
      "INFO:paramiko.transport:Connected (version 2.0, client OpenSSH_5.3)\n",
      "INFO:paramiko.transport:Authentication (password) successful!\n",
      "INFO:paramiko.transport.sftp:[chan 0] Opened sftp connection (server version 3)\n",
      "INFO:paramiko.transport.sftp:[chan 0] sftp session closed.\n",
      "INFO:paramiko.transport:Connected (version 2.0, client OpenSSH_5.3)\n",
      "INFO:paramiko.transport:Authentication (password) successful!\n",
      "INFO:paramiko.transport.sftp:[chan 0] Opened sftp connection (server version 3)\n",
      "2019-02-15 14:44:52,483 - INFO - Reading 'LINEARITY' model from '/Users/kendrew//CDP/MIRI_FM_MIRIMAGE_LINEARITY_06.02.00.fits'\n",
      "INFO:paramiko.transport.sftp:[chan 0] sftp session closed.\n",
      "INFO:paramiko.transport:Connected (version 2.0, client OpenSSH_5.3)\n",
      "INFO:paramiko.transport:Authentication (password) successful!\n",
      "INFO:paramiko.transport.sftp:[chan 0] Opened sftp connection (server version 3)\n",
      "2019-02-15 14:44:57,893 - INFO - Reading 'READNOISE' model from '/Users/kendrew//CDP/MIRI_FM_MIRIMAGE_FAST_READNOISE_06.01.00.fits'\n",
      "2019-02-15 14:44:58,000 - INFO - Creating exposure_data with 520 rows x 72 columns plus 60 groups and 1 ints.\n",
      "2019-02-15 14:44:58,246 - INFO - Simulating 1 integration.\n",
      "2019-02-15 14:44:58,404 - INFO - Simulating 60 groups for integration 1.\n",
      "2019-02-15 14:45:20,233 - INFO - Adding the DARK calibration from /Users/kendrew//CDP/MIRI_FM_MIRIMAGE_FAST_SLITLESSPRISM_DARK_06.01.00.fits\n",
      "2019-02-15 14:45:20,323 - INFO - Correcting nonlinearity from MIRI_FM_MIRIMAGE_LINEARITY_06.02.00.fits\n",
      "2019-02-15 14:45:22,965 - INFO - Exposure time 9.54s (duration 9.57s) \n",
      "2019-02-15 14:45:23,263 - INFO - Wrote detector image: 20190215_143554_mirisim/det_images/det_image_seq1_MIRIMAGE_P750Lexp1.fits\n",
      "2019-02-15 14:45:23,265 - INFO - MIRI Simulation finished. Results have been saved to: 20190215_143554_mirisim\n",
      "\n"
     ]
    },
    {
     "name": "stdout",
     "output_type": "stream",
     "text": [
      "20190215_143554_mirisim wasp62_lrstso_SLITLESSPRISM_60G1I1E_20190215_143554_mirisim\n"
     ]
    }
   ],
   "source": [
    "cfg_files = glob.glob('*_simconfig.ini')\n",
    "\n",
    "# configure the simulator engine - this requires no editing from the default\n",
    "simulator_config = SimulatorConfig.from_default()\n",
    "\n",
    "for f in cfg_files[:1]:\n",
    "    tmp = f.split('.')\n",
    "    fcomps = tmp[0].split('_')\n",
    "    sim = MiriSimulation.from_configfiles(f)\n",
    "    sim.run()\n",
    "    outdir = sorted(glob.glob('*_*_mirisim'), key=os.path.getmtime )[-1]\n",
    "    new_outdir = 'wasp62_lrstso_{0}_{1}_{2}'.format(fcomps[1], fcomps[2], outdir)\n",
    "    os.rename(outdir, new_outdir)\n",
    "    print(outdir, new_outdir)\n"
   ]
  },
  {
   "cell_type": "code",
   "execution_count": null,
   "metadata": {},
   "outputs": [],
   "source": []
  }
 ],
 "metadata": {
  "kernelspec": {
   "display_name": "Python 3",
   "language": "python",
   "name": "python3"
  },
  "language_info": {
   "codemirror_mode": {
    "name": "ipython",
    "version": 3
   },
   "file_extension": ".py",
   "mimetype": "text/x-python",
   "name": "python",
   "nbconvert_exporter": "python",
   "pygments_lexer": "ipython3",
   "version": "3.7.3"
  }
 },
 "nbformat": 4,
 "nbformat_minor": 4
}
