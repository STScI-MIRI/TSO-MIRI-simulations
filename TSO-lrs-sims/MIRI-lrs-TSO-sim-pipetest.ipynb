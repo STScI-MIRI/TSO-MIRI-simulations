{
 "cells": [
  {
   "cell_type": "code",
   "execution_count": 2,
   "metadata": {},
   "outputs": [
    {
     "name": "stdout",
     "output_type": "stream",
     "text": [
      "The autoreload extension is already loaded. To reload it, use:\n",
      "  %reload_ext autoreload\n"
     ]
    }
   ],
   "source": [
    "%load_ext autoreload\n",
    "%autoreload"
   ]
  },
  {
   "cell_type": "code",
   "execution_count": 3,
   "metadata": {},
   "outputs": [],
   "source": [
    "import numpy as np\n",
    "import matplotlib.pyplot as plt\n",
    "import os\n",
    "import glob\n",
    "from mirisim.config_parser import SimulatorConfig\n",
    "from mirisim import MiriSimulation\n",
    "import tso_lrs_sims_setup\n",
    "from pipetest_tso_lrs_sim import star_scene, lrstso_sim_config\n",
    "\n",
    "from importlib import reload"
   ]
  },
  {
   "cell_type": "markdown",
   "metadata": {},
   "source": [
    "In this notebook I'm going to generate simulated MIRI time series LRS (slitless) data, for data management & pipeline testing purposes. To install Mirisim, see the [the public release webpage](http://miri.ster.kuleuven.be/bin/view/Public/MIRISim_Public). The target for the mock observations is WASP-62, an exoplanet host star with the following properties from [the exoplanet encyclopaedia](http://exoplanet.eu/catalog/wasp-62_b/):\n",
    "\n",
    "* spectral type F7\n",
    "* T_bb = 6230 K\n",
    "* K = 8.994\n",
    "\n",
    "K magnitude of 8.994 corresponds to a flux of 20e3 microJy at 8 micron (value obtained from the ETC), and I'll use this value for the source generation.\n",
    "\n",
    "Using the ETC, I calculated the following number of groups for a high-SNR but unsaturated image:\n",
    "ngrps = 100\n",
    "\n",
    "Three simulations will be executed, for a short and an intermediate-duration exposure. The number of groups will be the same for all 3, as will the number of exposures (nexp = 1). The numbers of integrations will be 10 and 20 (these can be changed very easily).\n",
    "\n",
    "### Steps in setting up the simulation\n",
    "\n",
    "This notebook will go through the following steps:\n",
    "\n",
    "* Create the scene\n",
    "* Set up the simulation\n",
    "* Run the simulation\n",
    "\n",
    "Each step has its own function. Steps 1 and 2 will each write out a .ini file, which will be used as input for the final step."
   ]
  },
  {
   "cell_type": "code",
   "execution_count": 4,
   "metadata": {},
   "outputs": [],
   "source": [
    "arr = ['SLITLESSPRISM'] * 2\n",
    "ngrp = [100] * 2\n",
    "nints = [10, 20]\n"
   ]
  },
  {
   "cell_type": "markdown",
   "metadata": {},
   "source": [
    "## Step 1: Creating the input scene (star_scene)\n",
    "\n",
    "Here we'll create the input scene for the simulations using the function star_scene(). Arguments:\n",
    "\n",
    "* scene_file: the filename for the .ini file\n",
    "* write_cube: write the scene image out to a FITS file (optional; default=False)\n",
    "\n",
    "The function returns a mirisim.skysim.scenes.CompositeSkyScene object.\n"
   ]
  },
  {
   "cell_type": "code",
   "execution_count": 5,
   "metadata": {},
   "outputs": [
    {
     "name": "stderr",
     "output_type": "stream",
     "text": [
      "2021-11-15 15:26:02,050 - INFO - Initializing Point\n",
      "2021-11-15 15:26:02,051 - INFO - Initializing Background\n"
     ]
    },
    {
     "name": "stdout",
     "output_type": "stream",
     "text": [
      "Creating scene. Scene will be written to file lrstso_star_scene.ini\n",
      "File lrstso_star_scene.ini already exists. Will be overwritten.\n",
      "lrstso_star_scene.ini exists, overwrite (y/[n])?y\n"
     ]
    }
   ],
   "source": [
    "scene_ini = star_scene(scene_file='lrstso_star_scene.ini', write_cube=False)"
   ]
  },
  {
   "cell_type": "code",
   "execution_count": 6,
   "metadata": {},
   "outputs": [
    {
     "name": "stdout",
     "output_type": "stream",
     "text": [
      "lrstso_star_scene.ini\n"
     ]
    }
   ],
   "source": [
    "print(scene_ini)"
   ]
  },
  {
   "cell_type": "markdown",
   "metadata": {},
   "source": [
    "## Step 2: Configuring the simulation\n",
    "\n",
    "Now I'll set up the simulations and prepare to run them. Before we write out a new simconfig file, we delete any existing files in the directory. I'll set it up to loop through the different simulations. For this I wrote the function lrstso_sim_config. Check the docstring for descriptions and default values of the arguments. \n",
    "\n",
    "The function will write out another .ini file containing the simulation configuration, and it returns the output filename for further use."
   ]
  },
  {
   "cell_type": "code",
   "execution_count": 7,
   "metadata": {},
   "outputs": [
    {
     "name": "stdout",
     "output_type": "stream",
     "text": [
      "Found scene file lrstso_star_scene.ini\n",
      "**** Simulation will use the WebbPSF model ****\n",
      "lrstso_SLITLESSPRISM_100G10I1E_simconfig.ini\n",
      "Found scene file lrstso_star_scene.ini\n",
      "**** Simulation will use the WebbPSF model ****\n",
      "lrstso_SLITLESSPRISM_100G20I1E_simconfig.ini\n"
     ]
    }
   ],
   "source": [
    "old_files = glob.glob('*_simconfig.ini')\n",
    "\n",
    "for of in old_files:\n",
    "    os.remove(of)\n",
    "\n",
    "for (a, g, i) in zip(arr, ngrp, nints):\n",
    "    sim_ini = lrstso_sim_config(mode='lrs', arr=a, ngrp=g, nint=i, nexp=1, \n",
    "                   scene_file=scene_ini, out=True)\n",
    "    print(sim_ini)"
   ]
  },
  {
   "cell_type": "markdown",
   "metadata": {},
   "source": [
    "### Step 3: Run the simulation\n",
    "\n",
    "In the following step we'll run the simulations for the 2 different cases. For each run, we need 3 input files: the scene, the simulation configuration, and the simulator setup file. The first and last of these remain the same for each run, and we loop through the list of 6 simulation config files.\n",
    "\n",
    "After the simulation has run, the code renames the output directory to include the simulation settings to the directory.\n"
   ]
  },
  {
   "cell_type": "code",
   "execution_count": 8,
   "metadata": {},
   "outputs": [
    {
     "name": "stderr",
     "output_type": "stream",
     "text": [
      "2021-11-15 15:26:46,084 - INFO - Using simulation configuration: lrstso_SLITLESSPRISM_100G10I1E_simconfig.ini\n",
      "2021-11-15 15:26:46,086 - INFO - Using scene configuration: lrstso_star_scene.ini\n",
      "2021-11-15 15:26:46,089 - INFO - MIRISim version: 2.4.1\n",
      "2021-11-15 15:26:46,089 - INFO - MIRI Simulation started.\n",
      "2021-11-15 15:26:46,090 - INFO - Output will be saved to: 20211115_152646_mirisim\n",
      "2021-11-15 15:26:46,091 - INFO - Storing configs in output directory.\n"
     ]
    },
    {
     "name": "stdout",
     "output_type": "stream",
     "text": [
      "lrstso_SLITLESSPRISM_100G10I1E_simconfig.ini\n"
     ]
    },
    {
     "name": "stderr",
     "output_type": "stream",
     "text": [
      "2021-11-15 15:26:46,628 - INFO - Reading cosmic ray properties from parameter file /Users/skendrew/anaconda3/envs/miricle/lib/python3.8/site-packages/miri/simulators/scasim/cosmic_ray_properties.py\n",
      "2021-11-15 15:26:46,650 - INFO - Reading detector properties from parameter file /Users/skendrew/anaconda3/envs/miricle/lib/python3.8/site-packages/miri/simulators/scasim/detector_properties.py\n",
      "2021-11-15 15:26:46,691 - INFO - Storing dither pattern in output directory.\n",
      "2021-11-15 15:26:46,693 - INFO - Using $CDP_DIR for location of CDP files: /Users/skendrew//CDP2.4.1\n",
      "2021-11-15 15:26:46,693 - INFO - Setting up simulated Observation, with following settings:\n",
      "2021-11-15 15:26:46,694 - INFO - Configuration Path: LRS_SLITLESS\n",
      "2021-11-15 15:26:46,694 - INFO - Primary optical path: IMA\n",
      "2021-11-15 15:26:46,695 - INFO - IMA Filter: P750L\n",
      "2021-11-15 15:26:46,696 - INFO - IMA Subarray: SLITLESSPRISM\n",
      "2021-11-15 15:26:46,696 - INFO - IMA detector readout mode: FAST\n",
      "2021-11-15 15:26:46,697 - INFO - IMA detector # exposures: 1\n",
      "2021-11-15 15:26:46,697 - INFO - IMA detector # integrations: 10\n",
      "2021-11-15 15:26:46,698 - INFO - IMA detector # frames: 100\n",
      "2021-11-15 15:26:46,698 - INFO - Parsing: Background\n",
      "2021-11-15 15:26:46,699 - INFO - Initializing Background\n",
      "2021-11-15 15:26:46,700 - INFO - Parsing: point_1\n",
      "2021-11-15 15:26:46,701 - INFO - Initializing Point\n",
      "2021-11-15 15:26:46,702 - INFO - Simulating a single pointing.\n",
      "2021-11-15 15:26:55,284 - INFO - Reading 'DISTORTION' model from '/Users/skendrew//CDP2.4.1/MIRI_FM_MIRIMAGE_P750L_DISTORTION_07.02.00.fits'\n",
      "2021-11-15 15:26:56,002 - INFO - Reading 'DISTORTION' model from '/Users/skendrew//CDP2.4.1/MIRI_FM_MIRIMAGE_DISTORTION_07.04.01.fits'\n",
      "2021-11-15 15:26:56,112 - INFO - Reading 'DISTORTION' model from '/Users/skendrew//CDP2.4.1/MIRI_FM_MIRIMAGE_DISTORTION_07.04.01.fits'\n",
      "2021-11-15 15:26:56,207 - INFO - Reading 'DISTORTION' model from '/Users/skendrew//CDP2.4.1/MIRI_FM_MIRIMAGE_P750L_DISTORTION_07.02.00.fits'\n",
      "2021-11-15 15:26:56,255 - INFO - Creating pointing for position 1\n",
      "2021-11-15 15:26:56,256 - INFO - Creating exposure event for position 1\n",
      "2021-11-15 15:26:56,257 - INFO - Reading 'DISTORTION' model from '/Users/skendrew//CDP2.4.1/MIRI_FM_MIRIMAGE_P750L_DISTORTION_07.02.00.fits'\n",
      "2021-11-15 15:26:56,303 - INFO - Reading 'DISTORTION' model from '/Users/skendrew//CDP2.4.1/MIRI_FM_MIRIMAGE_DISTORTION_07.04.01.fits'\n",
      "2021-11-15 15:26:56,400 - INFO - Reading 'DISTORTION' model from '/Users/skendrew//CDP2.4.1/MIRI_FM_MIRIMAGE_P750L_DISTORTION_07.02.00.fits'\n",
      "2021-11-15 15:26:56,447 - INFO - Reading 'DISTORTION' model from '/Users/skendrew//CDP2.4.1/MIRI_FM_MIRIMAGE_DISTORTION_07.04.01.fits'\n",
      "2021-11-15 15:26:56,549 - INFO - Observation simulation started.\n",
      "2021-11-15 15:26:56,549 - INFO - Simulating ExposureEvent for pointing 1\n",
      "2021-11-15 15:26:56,550 - INFO - Simulating Lrs exposures for pointing 1\n",
      "2021-11-15 15:26:56,550 - INFO - Simulating detector illumination for LRS exposures for pointing 1\n",
      "2021-11-15 15:26:56,551 - INFO - lrs simulator processing  cfgpath=LRS_SLITLESS\n",
      "2021-11-15 15:26:56,552 - INFO - lrssim takes CDP PSF\n",
      "2021-11-15 15:26:56,554 - INFO - Reading 'DISTORTION' model from '/Users/skendrew//CDP2.4.1/MIRI_FM_MIRIMAGE_P750L_DISTORTION_07.02.00.fits'\n",
      "2021-11-15 15:26:56,606 - INFO - use PHOTOM (SRF) CDP to convert flux\n",
      "2021-11-15 15:26:56,607 - INFO -  Retrieving CDP file\n",
      "  from sftp 'www.miricle.org/.../MIRI_FM_MIRIMAGE_P750L_SLITLESSPRISM_PHOTOM_8B.03.01.fits'\n",
      "  to cache '/Users/skendrew//CDP2.4.1/MIRI_FM_MIRIMAGE_P750L_SLITLESSPRISM_PHOTOM_8B.03.01.fits' ...\n",
      "2021-11-15 15:26:57,677 - INFO - Reading 'PHOTOM' model from '/Users/skendrew//CDP2.4.1/MIRI_FM_MIRIMAGE_P750L_SLITLESSPRISM_PHOTOM_8B.03.01.fits'\n",
      "2021-11-15 15:26:57,728 - INFO - Reading 'AREA' model from '/Users/skendrew//CDP2.4.1/MIRI_FM_MIRIMAGE_AREA_07.00.00.fits'\n",
      "2021-11-15 15:26:57,763 - INFO - v2_ref= -378.832074, v3_ref=-344.944543 , v2_off=0.000000, v3_off=0.000000, pa=0.000000\n",
      "2021-11-15 15:26:57,764 - INFO - Reading 'DISTORTION' model from '/Users/skendrew//CDP2.4.1/MIRI_FM_MIRIMAGE_DISTORTION_07.04.01.fits'\n",
      "2021-11-15 15:26:57,858 - INFO - Reading 'DISTORTION' model from '/Users/skendrew//CDP2.4.1/MIRI_FM_MIRIMAGE_P750L_DISTORTION_07.02.00.fits'\n",
      "2021-11-15 15:26:58,091 - INFO -  Retrieving CDP file\n",
      "  from sftp 'www.miricle.org/.../MIRI_FM_MIRIMAGE_P750L_SLITLESSPRISM_PSF_07.04.00.fits'\n",
      "  to cache '/Users/skendrew//CDP2.4.1/MIRI_FM_MIRIMAGE_P750L_SLITLESSPRISM_PSF_07.04.00.fits' ...\n",
      "2021-11-15 15:26:59,780 - INFO - Reading 'PSF' model from '/Users/skendrew//CDP2.4.1/MIRI_FM_MIRIMAGE_P750L_SLITLESSPRISM_PSF_07.04.00.fits'\n",
      "2021-11-15 15:26:59,881 - INFO - Retrieving file for Lrs Array Mask: FocalPlaneMask\n",
      "2021-11-15 15:26:59,905 - INFO - 1 point sources in scene\n",
      "2021-11-15 15:26:59,906 - INFO - point source no: 0\n",
      "2021-11-15 15:26:59,907 - INFO - lrs simulator processing in get_point_int in mirisim.lrssim.lrs\n",
      "2021-11-15 15:26:59,919 - INFO - xcenter 37.49701301277412\n",
      "2021-11-15 15:26:59,920 - INFO - ycenter 828.0078564584006\n",
      "2021-11-15 15:26:59,921 - INFO - xdiff -0.002986987225881421\n",
      "2021-11-15 15:26:59,922 - INFO - ydiff 0.007856458400624433\n",
      "2021-11-15 15:26:59,969 - INFO - no extended sources are computed\n",
      "2021-11-15 15:26:59,969 - INFO - lrs simulator processing in extract_sky_cube in mirisim.lrssim.lrs\n",
      "2021-11-15 15:26:59,970 - INFO - no scenecube sources in scene\n",
      "2021-11-15 15:26:59,971 - INFO - no fits skyCube sources are computed\n",
      "2021-11-15 15:26:59,971 - INFO - calculate background for slitless mode\n",
      "2021-11-15 15:26:59,991 - INFO - lrs simulator processing in get_background_from_scene_lrs_extend in mirisim.lrssim.lrs_extend\n",
      "2021-11-15 15:26:59,992 - INFO - 1 backgrounds available in scene\n",
      "2021-11-15 15:30:08,477 - INFO - Wrote illumination model: 20211115_152646_mirisim/illum_models/illum_model_seq1_MIRIMAGE_P750L.fits\n",
      "2021-11-15 15:30:08,478 - INFO - Simulating integrated detector images for LRS exposures for pointing 1\n",
      "2021-11-15 15:30:08,479 - INFO - Simulating LRS exposure 1\n",
      "2021-11-15 15:30:08,483 - INFO - Running SCASim\n",
      "2021-11-15 15:30:08,484 - INFO - Simulating  detector readout for MIRIMAGE from illumination data model of shape (416, 72).\n",
      "2021-11-15 15:30:08,496 - INFO - Results will be returned in an exposure data model.\n",
      "2021-11-15 15:30:08,507 - INFO -   Detector readout mode is FAST (samplesum=1, sampleskip=0, nframe=1, groupgap=0) \n",
      "  with 10 integrations and ngroups=100 defined explicitly.\n",
      "  Detector subarray mode is SLITLESSPRISM  [529, 1, 416, 72].\n",
      "2021-11-15 15:30:08,508 - INFO - Detector temperature = 6.70 K (which affects dark current and read noise).\n",
      "2021-11-15 15:30:08,509 - INFO - Cosmic ray environment is SOLAR_MIN.\n",
      "2021-11-15 15:30:08,511 - INFO - Reading cosmic ray library file: '/Users/skendrew/anaconda3/envs/miricle/lib/python3.8/site-packages/miri/simulators/data/cosmic_rays/CRs_SiAs_470_SUNMIN_02.fits'\n",
      "2021-11-15 15:30:08,581 - INFO - Simulation control flags:\n",
      "\tQuantum efficiency simulation turned OFF.\n",
      "\tPoisson noise simulation turned ON.\n",
      "\tRead noise simulation turned ON.\n",
      "\tReference pixels simulation turned ON.\n",
      "\tBad pixels simulation turned ON.\n",
      "\tDark current simulation turned ON.\n",
      "\tFlat-field simulation turned ON.\n",
      "\tAmplifier bias and gain turned ON.\n",
      "\tDetector non-linearity effects turned ON.\n",
      "\tDetector drift effects turned ON.\n",
      "\tDetector latency effects turned ON.\n",
      "2021-11-15 15:30:08,582 - INFO - Input subarray mode obtained from illumination map: SLITLESSPRISM\n",
      "2021-11-15 15:30:08,583 - INFO - Detector properties translates input subarray SLITLESSPRISM into [529, 1, 416, 72]\n",
      "2021-11-15 15:30:08,584 - INFO - Creating a new detector object for 1024 rows x 1024 columns.\n",
      "2021-11-15 15:30:08,586 - INFO - Reading 'MASK' model from '/Users/skendrew//CDP2.4.1/MIRI_FM_MIRIMAGE_MASK_07.02.01.fits'\n",
      "2021-11-15 15:30:08,651 - INFO - Reading 'GAIN' model from '/Users/skendrew//CDP2.4.1/MIRI_FM_MIRIMAGE_GAIN_04.00.00.fits'\n",
      "2021-11-15 15:30:16,801 - INFO -  Retrieving CDP file\n",
      "  from sftp 'www.miricle.org/.../MIRI_FM_MIRIMAGE_FAST_SLITLESSPRISM_DARK_06.01.00.fits'\n",
      "  to cache '/Users/skendrew//CDP2.4.1/MIRI_FM_MIRIMAGE_FAST_SLITLESSPRISM_DARK_06.01.00.fits' ...\n",
      "2021-11-15 15:31:09,260 - INFO - Reading DARK model from '/Users/skendrew//CDP2.4.1/MIRI_FM_MIRIMAGE_FAST_SLITLESSPRISM_DARK_06.01.00.fits'\n"
     ]
    },
    {
     "name": "stderr",
     "output_type": "stream",
     "text": [
      "2021-11-15 15:31:09,764 - INFO -  Retrieving CDP file\n",
      "  from sftp 'www.miricle.org/.../MIRI_FM_MIRIMAGE_P750L_SLITLESSPRISM_PIXELFLAT_07.01.01.fits'\n",
      "  to cache '/Users/skendrew//CDP2.4.1/MIRI_FM_MIRIMAGE_P750L_SLITLESSPRISM_PIXELFLAT_07.01.01.fits' ...\n",
      "2021-11-15 15:31:11,336 - INFO - Reading 'PIXELFLAT' model from '/Users/skendrew//CDP2.4.1/MIRI_FM_MIRIMAGE_P750L_SLITLESSPRISM_PIXELFLAT_07.01.01.fits'\n",
      "2021-11-15 15:31:11,389 - INFO - *NOTE*: Could not find exact match for pixel flat-field for detector MIRIMAGE with FAST mode with filter='P750L'. An alternative (MIRI_FM_MIRIMAGE_P750L_SLITLESSPRISM_PIXELFLAT_07.01.01.fits) is being used.\n",
      "2021-11-15 15:31:11,406 - INFO - Reading 'LINEARITY' model from '/Users/skendrew//CDP2.4.1/MIRI_FM_MIRIMAGE_LINEARITY_06.02.00.fits'\n",
      "2021-11-15 15:31:11,615 - INFO - Reading 'READNOISE' model from '/Users/skendrew//CDP2.4.1/MIRI_FM_MIRIMAGE_FAST_READNOISE_07.01.00.fits'\n",
      "2021-11-15 15:31:11,668 - INFO - Creating exposure_data with 520 rows x 72 columns plus 100 groups and 10 ints.\n",
      "2021-11-15 15:31:11,874 - INFO - Simulating 10 integrations.\n",
      "2021-11-15 15:31:11,981 - INFO - Simulating 100 groups for integration 1.\n",
      "2021-11-15 15:31:28,541 - INFO - Simulating 100 groups for integration 2.\n",
      "2021-11-15 15:31:44,743 - INFO - Simulating 100 groups for integration 3.\n",
      "2021-11-15 15:31:59,703 - INFO - Simulating 100 groups for integration 4.\n",
      "2021-11-15 15:32:15,943 - INFO - Simulating 100 groups for integration 5.\n",
      "2021-11-15 15:32:32,357 - INFO - Simulating 100 groups for integration 6.\n",
      "2021-11-15 15:32:48,760 - INFO - Simulating 100 groups for integration 7.\n",
      "2021-11-15 15:33:05,546 - INFO - Simulating 100 groups for integration 8.\n",
      "2021-11-15 15:33:21,320 - INFO - Simulating 100 groups for integration 9.\n",
      "2021-11-15 15:33:38,244 - INFO - Simulating 100 groups for integration 10.\n",
      "2021-11-15 15:33:55,196 - INFO - Adding the DARK calibration from /Users/skendrew//CDP2.4.1/MIRI_FM_MIRIMAGE_FAST_SLITLESSPRISM_DARK_06.01.00.fits\n",
      "2021-11-15 15:33:55,487 - INFO - Correcting nonlinearity from MIRI_FM_MIRIMAGE_LINEARITY_06.02.00.fits\n",
      "2021-11-15 15:33:56,415 - INFO - Output subarray defined. SUBSTRT=(1,529), SUBSIZE=(72,416)\n",
      "2021-11-15 15:33:56,415 - INFO - WCS keywords defined as CRPIX1=0, CRPIX2=-528\n",
      "2021-11-15 15:33:56,930 - INFO - Exposure time 159.04s (duration 159.07s) \n",
      "2021-11-15 15:33:58,654 - INFO - Wrote detector image: 20211115_152646_mirisim/det_images/det_image_seq1_MIRIMAGE_P750Lexp1.fits\n",
      "2021-11-15 15:33:58,655 - INFO - MIRI Simulation finished. Results have been saved to: 20211115_152646_mirisim\n",
      "\n"
     ]
    },
    {
     "name": "stdout",
     "output_type": "stream",
     "text": [
      "20211115_152646_mirisim pipetest_lrstso_SLITLESSPRISM_100G10I1E_20211115_152646_mirisim\n"
     ]
    }
   ],
   "source": [
    "cfg_files = glob.glob('*_simconfig.ini')\n",
    "\n",
    "# configure the simulator engine - this requires no editing from the default\n",
    "simulator_config = SimulatorConfig.makeSimulator(take_webbPsf=True)\n",
    "\n",
    "for f in cfg_files[:1]:\n",
    "    print(f)\n",
    "    tmp = f.split('.')\n",
    "    fcomps = tmp[0].split('_')\n",
    "    sim = MiriSimulation.from_configfiles(f)\n",
    "    sim.run()\n",
    "    outdir = sorted(glob.glob('*_*_mirisim'), key=os.path.getmtime )[-1]\n",
    "    new_outdir = 'pipetest_lrstso_{0}_{1}_{2}'.format(fcomps[1], fcomps[2], outdir)\n",
    "    os.rename(outdir, new_outdir)\n",
    "    print(outdir, new_outdir)\n"
   ]
  },
  {
   "cell_type": "code",
   "execution_count": null,
   "metadata": {},
   "outputs": [],
   "source": []
  }
 ],
 "metadata": {
  "kernelspec": {
   "display_name": "Python 3 (ipykernel)",
   "language": "python",
   "name": "python3"
  },
  "language_info": {
   "codemirror_mode": {
    "name": "ipython",
    "version": 3
   },
   "file_extension": ".py",
   "mimetype": "text/x-python",
   "name": "python",
   "nbconvert_exporter": "python",
   "pygments_lexer": "ipython3",
   "version": "3.8.11"
  }
 },
 "nbformat": 4,
 "nbformat_minor": 4
}
