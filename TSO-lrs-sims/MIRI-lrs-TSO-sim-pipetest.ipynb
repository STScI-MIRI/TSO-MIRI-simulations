{
 "cells": [
  {
   "cell_type": "code",
   "execution_count": 8,
   "metadata": {},
   "outputs": [
    {
     "name": "stdout",
     "output_type": "stream",
     "text": [
      "The autoreload extension is already loaded. To reload it, use:\n",
      "  %reload_ext autoreload\n"
     ]
    }
   ],
   "source": [
    "%load_ext autoreload\n",
    "%autoreload"
   ]
  },
  {
   "cell_type": "code",
   "execution_count": 9,
   "metadata": {},
   "outputs": [],
   "source": [
    "import numpy as np\n",
    "import matplotlib.pyplot as plt\n",
    "import os\n",
    "import glob\n",
    "from mirisim.config_parser import SimulatorConfig\n",
    "from mirisim import MiriSimulation\n",
    "import tso_lrs_sims_setup\n",
    "from pipetest_tso_lrs_sim import star_scene, lrstso_sim_config\n",
    "\n",
    "from importlib import reload"
   ]
  },
  {
   "cell_type": "markdown",
   "metadata": {},
   "source": [
    "In this notebook I'm going to generate simulated MIRI time series LRS (slitless) data, for data management & pipeline testing purposes. To install Mirisim, see the [the public release webpage](http://miri.ster.kuleuven.be/bin/view/Public/MIRISim_Public). The target for the mock observations is WASP-62, an exoplanet host star with the following properties from [the exoplanet encyclopaedia](http://exoplanet.eu/catalog/wasp-62_b/):\n",
    "\n",
    "* spectral type F7\n",
    "* T_bb = 6230 K\n",
    "* K = 8.994\n",
    "\n",
    "K magnitude of 8.994 corresponds to a flux of 20e3 microJy at 8 micron (value obtained from the ETC), and I'll use this value for the source generation.\n",
    "\n",
    "Using the ETC, I calculated the following number of groups for a high-SNR but unsaturated image:\n",
    "ngrps = 100\n",
    "\n",
    "Three simulations will be executed, for a short and an intermediate-duration exposure. The number of groups will be the same for all 3, as will the number of exposures (nexp = 1). The numbers of integrations will be 10 and 20 (these can be changed very easily).\n",
    "\n",
    "### Steps in setting up the simulation\n",
    "\n",
    "This notebook will go through the following steps:\n",
    "\n",
    "* Create the scene\n",
    "* Set up the simulation\n",
    "* Run the simulation\n",
    "\n",
    "Each step has its own function. Steps 1 and 2 will each write out a .ini file, which will be used as input for the final step."
   ]
  },
  {
   "cell_type": "code",
   "execution_count": 10,
   "metadata": {},
   "outputs": [],
   "source": [
    "arr = ['SLITLESSPRISM'] * 2\n",
    "ngrp = [100] * 2\n",
    "nints = [10, 20]\n"
   ]
  },
  {
   "cell_type": "markdown",
   "metadata": {},
   "source": [
    "## Step 1: Creating the input scene (star_scene)\n",
    "\n",
    "Here we'll create the input scene for the simulations using the function star_scene(). Arguments:\n",
    "\n",
    "* scene_file: the filename for the .ini file\n",
    "* write_cube: write the scene image out to a FITS file (optional; default=False)\n",
    "\n",
    "The function returns a mirisim.skysim.scenes.CompositeSkyScene object.\n"
   ]
  },
  {
   "cell_type": "code",
   "execution_count": 11,
   "metadata": {},
   "outputs": [
    {
     "name": "stderr",
     "output_type": "stream",
     "text": [
      "2020-08-06 11:19:56,368 - INFO - Initializing Point\n",
      "2020-08-06 11:19:56,369 - INFO - Initializing Background\n"
     ]
    },
    {
     "name": "stdout",
     "output_type": "stream",
     "text": [
      "Creating scene. Scene will be written to file lrstso_star_scene.ini\n",
      "File lrstso_star_scene.ini already exists. Will be overwritten.\n",
      "lrstso_star_scene.ini exists, overwrite (y/[n])?y\n"
     ]
    }
   ],
   "source": [
    "scene_ini = star_scene(scene_file='lrstso_star_scene.ini', write_cube=False)"
   ]
  },
  {
   "cell_type": "code",
   "execution_count": 12,
   "metadata": {},
   "outputs": [
    {
     "name": "stdout",
     "output_type": "stream",
     "text": [
      "lrstso_star_scene.ini\n"
     ]
    }
   ],
   "source": [
    "print(scene_ini)"
   ]
  },
  {
   "cell_type": "markdown",
   "metadata": {},
   "source": [
    "## Step 2: Configuring the simulation\n",
    "\n",
    "Now I'll set up the simulations and prepare to run them. Before we write out a new simconfig file, we delete any existing files in the directory. I'll set it up to loop through the different simulations. For this I wrote the function lrstso_sim_config. Check the docstring for descriptions and default values of the arguments. \n",
    "\n",
    "The function will write out another .ini file containing the simulation configuration, and it returns the output filename for further use."
   ]
  },
  {
   "cell_type": "code",
   "execution_count": 13,
   "metadata": {},
   "outputs": [
    {
     "name": "stdout",
     "output_type": "stream",
     "text": [
      "Found scene file lrstso_star_scene.ini\n",
      "**** Simulation will use the WebbPSF model ****\n",
      "lrstso_SLITLESSPRISM_100G10I1E_simconfig.ini\n",
      "Found scene file lrstso_star_scene.ini\n",
      "**** Simulation will use the WebbPSF model ****\n",
      "lrstso_SLITLESSPRISM_100G20I1E_simconfig.ini\n"
     ]
    }
   ],
   "source": [
    "old_files = glob.glob('*_simconfig.ini')\n",
    "\n",
    "for of in old_files:\n",
    "    os.remove(of)\n",
    "\n",
    "for (a, g, i) in zip(arr, ngrp, nints):\n",
    "    sim_ini = lrstso_sim_config(mode='lrs', arr=a, ngrp=g, nint=i, nexp=1, \n",
    "                   scene_file=scene_ini, out=True)\n",
    "    print(sim_ini)"
   ]
  },
  {
   "cell_type": "markdown",
   "metadata": {},
   "source": [
    "### Step 3: Run the simulation\n",
    "\n",
    "In the following step we'll run the simulations for the 2 different cases. For each run, we need 3 input files: the scene, the simulation configuration, and the simulator setup file. The first and last of these remain the same for each run, and we loop through the list of 6 simulation config files.\n",
    "\n",
    "After the simulation has run, the code renames the output directory to include the simulation settings to the directory.\n"
   ]
  },
  {
   "cell_type": "code",
   "execution_count": 14,
   "metadata": {},
   "outputs": [
    {
     "name": "stderr",
     "output_type": "stream",
     "text": [
      "2020-08-06 11:20:25,115 - INFO - Using simulation configuration: lrstso_SLITLESSPRISM_100G10I1E_simconfig.ini\n",
      "2020-08-06 11:20:25,117 - INFO - Using scene configuration: lrstso_star_scene.ini\n",
      "2020-08-06 11:20:25,119 - INFO - MIRISim version: 2.3.0b0\n",
      "2020-08-06 11:20:25,120 - INFO - MIRI Simulation started.\n",
      "2020-08-06 11:20:25,120 - INFO - Output will be saved to: 20200806_112025_mirisim\n",
      "2020-08-06 11:20:25,121 - INFO - Storing configs in output directory.\n"
     ]
    },
    {
     "name": "stdout",
     "output_type": "stream",
     "text": [
      "lrstso_SLITLESSPRISM_100G10I1E_simconfig.ini\n"
     ]
    },
    {
     "name": "stderr",
     "output_type": "stream",
     "text": [
      "2020-08-06 11:20:25,557 - INFO - Reading cosmic ray properties from parameter file /Users/kendrew/anaconda3/envs/miricle.devel/lib/python3.7/site-packages/miri/simulators/scasim/cosmic_ray_properties.py\n",
      "2020-08-06 11:20:25,563 - INFO - Reading detector properties from parameter file /Users/kendrew/anaconda3/envs/miricle.devel/lib/python3.7/site-packages/miri/simulators/scasim/detector_properties.py\n",
      "2020-08-06 11:20:25,601 - INFO - Storing dither pattern in output directory.\n",
      "2020-08-06 11:20:25,602 - INFO - Using $CDP_DIR for location of CDP files: /Users/kendrew//CDP\n",
      "2020-08-06 11:20:25,603 - INFO - Setting up simulated Observation, with following settings:\n",
      "2020-08-06 11:20:25,603 - INFO - Configuration Path: LRS_SLITLESS\n",
      "2020-08-06 11:20:25,604 - INFO - Primary optical path: IMA\n",
      "2020-08-06 11:20:25,605 - INFO - IMA Filter: P750L\n",
      "2020-08-06 11:20:25,605 - INFO - IMA Subarray: SLITLESSPRISM\n",
      "2020-08-06 11:20:25,606 - INFO - IMA detector readout mode: FAST\n",
      "2020-08-06 11:20:25,607 - INFO - IMA detector # exposures: 1\n",
      "2020-08-06 11:20:25,608 - INFO - IMA detector # integrations: 10\n",
      "2020-08-06 11:20:25,608 - INFO - IMA detector # frames: 100\n",
      "2020-08-06 11:20:25,609 - INFO - Parsing: Background\n",
      "2020-08-06 11:20:25,610 - INFO - Initializing Background\n",
      "2020-08-06 11:20:25,611 - INFO - Parsing: point_1\n",
      "2020-08-06 11:20:25,611 - INFO - Initializing Point\n",
      "2020-08-06 11:20:25,613 - INFO - Simulating a single pointing.\n",
      "2020-08-06 11:21:41,530 - ERROR - SSHException: SFTP connection failed: Unable to connect to www.miricle.org: [Errno 60] Operation timed out  Falling back to LOCAL host.\n",
      "2020-08-06 11:21:41,532 - WARNING - No ftp host specified. Using local cache.\n",
      "2020-08-06 11:21:41,533 - WARNING -   \n",
      "2020-08-06 11:21:41,538 - WARNING - No ftp host specified. Using local cache.\n",
      "2020-08-06 11:21:41,539 - WARNING -   \n",
      "2020-08-06 11:21:41,541 - WARNING - Matching against local CDP cache only.\n",
      "2020-08-06 11:21:41,543 - INFO - Reading 'DISTORTION' model from '/Users/kendrew//CDP/MIRI_FM_MIRIMAGE_P750L_DISTORTION_07.02.00.fits'\n",
      "2020-08-06 11:21:42,332 - WARNING - Matching against local CDP cache only.\n",
      "2020-08-06 11:21:42,334 - INFO - Reading 'DISTORTION' model from '/Users/kendrew//CDP/MIRI_FM_MIRIMAGE_DISTORTION_07.04.01.fits'\n",
      "2020-08-06 11:21:42,496 - WARNING - Matching against local CDP cache only.\n",
      "2020-08-06 11:21:42,497 - INFO - Reading 'DISTORTION' model from '/Users/kendrew//CDP/MIRI_FM_MIRIMAGE_DISTORTION_07.04.01.fits'\n",
      "2020-08-06 11:21:42,613 - WARNING - Matching against local CDP cache only.\n",
      "2020-08-06 11:21:42,614 - INFO - Reading 'DISTORTION' model from '/Users/kendrew//CDP/MIRI_FM_MIRIMAGE_P750L_DISTORTION_07.02.00.fits'\n",
      "/Users/kendrew/anaconda3/envs/miricle.devel/lib/python3.7/site-packages/gwcs/wcs.py:131: VisibleDeprecationWarning: Creating an ndarray from ragged nested sequences (which is a list-or-tuple of lists-or-tuples-or ndarrays with different lengths or shapes) is deprecated. If you meant to do this, you must specify 'dtype=object' when creating the ndarray\n",
      "  transforms = np.array(self._pipeline[from_ind: to_ind])[:, 1].copy()\n",
      "2020-08-06 11:21:42,681 - INFO - Creating pointing for position 1\n",
      "2020-08-06 11:21:42,682 - INFO - Creating exposure event for position 1\n",
      "2020-08-06 11:21:42,683 - WARNING - Matching against local CDP cache only.\n",
      "2020-08-06 11:21:42,684 - INFO - Reading 'DISTORTION' model from '/Users/kendrew//CDP/MIRI_FM_MIRIMAGE_P750L_DISTORTION_07.02.00.fits'\n",
      "2020-08-06 11:21:42,744 - WARNING - Matching against local CDP cache only.\n",
      "2020-08-06 11:21:42,745 - INFO - Reading 'DISTORTION' model from '/Users/kendrew//CDP/MIRI_FM_MIRIMAGE_DISTORTION_07.04.01.fits'\n",
      "2020-08-06 11:21:42,861 - WARNING - Matching against local CDP cache only.\n",
      "2020-08-06 11:21:42,862 - INFO - Reading 'DISTORTION' model from '/Users/kendrew//CDP/MIRI_FM_MIRIMAGE_P750L_DISTORTION_07.02.00.fits'\n",
      "2020-08-06 11:21:42,919 - WARNING - Matching against local CDP cache only.\n",
      "2020-08-06 11:21:42,920 - INFO - Reading 'DISTORTION' model from '/Users/kendrew//CDP/MIRI_FM_MIRIMAGE_DISTORTION_07.04.01.fits'\n",
      "2020-08-06 11:21:43,040 - INFO - Observation simulation started.\n",
      "2020-08-06 11:21:43,041 - INFO - Simulating ExposureEvent for pointing 1\n",
      "2020-08-06 11:21:43,042 - INFO - Simulating Lrs exposures for pointing 1\n",
      "2020-08-06 11:21:43,042 - INFO - Simulating detector illumination for LRS exposures for pointing 1\n",
      "2020-08-06 11:21:43,043 - INFO - lrs simulator processing  cfgpath=LRS_SLITLESS\n",
      "2020-08-06 11:21:43,044 - INFO - lrssim takes CDP PSF\n",
      "2020-08-06 11:21:43,045 - WARNING - Matching against local CDP cache only.\n",
      "2020-08-06 11:21:43,046 - INFO - Reading 'DISTORTION' model from '/Users/kendrew//CDP/MIRI_FM_MIRIMAGE_P750L_DISTORTION_07.02.00.fits'\n",
      "2020-08-06 11:21:43,104 - INFO - use PHOTOM (SRF) CDP to convert flux\n",
      "2020-08-06 11:21:43,105 - WARNING - Matching against local CDP cache only.\n",
      "2020-08-06 11:21:43,106 - INFO - Reading 'PHOTOM' model from '/Users/kendrew//CDP/MIRI_FM_MIRIMAGE_P750L_SLITLESSPRISM_PHOTOM_8B.03.00.fits'\n",
      "2020-08-06 11:21:43,173 - WARNING - Matching against local CDP cache only.\n",
      "2020-08-06 11:21:43,175 - INFO - Reading 'AREA' model from '/Users/kendrew//CDP/MIRI_FM_MIRIMAGE_AREA_07.00.00.fits'\n",
      "2020-08-06 11:21:43,221 - INFO - v2_ref= -378.832074, v3_ref=-344.944543 , v2_off=0.000000, v3_off=0.000000, pa=0.000000\n",
      "2020-08-06 11:21:43,222 - WARNING - Matching against local CDP cache only.\n",
      "2020-08-06 11:21:43,223 - INFO - Reading 'DISTORTION' model from '/Users/kendrew//CDP/MIRI_FM_MIRIMAGE_DISTORTION_07.04.01.fits'\n",
      "2020-08-06 11:21:43,334 - WARNING - Matching against local CDP cache only.\n",
      "2020-08-06 11:21:43,335 - INFO - Reading 'DISTORTION' model from '/Users/kendrew//CDP/MIRI_FM_MIRIMAGE_P750L_DISTORTION_07.02.00.fits'\n",
      "/Users/kendrew/anaconda3/envs/miricle.devel/lib/python3.7/site-packages/gwcs/wcs.py:126: VisibleDeprecationWarning: Creating an ndarray from ragged nested sequences (which is a list-or-tuple of lists-or-tuples-or ndarrays with different lengths or shapes) is deprecated. If you meant to do this, you must specify 'dtype=object' when creating the ndarray\n",
      "  transforms = np.array(self._pipeline[to_ind: from_ind])[:, 1].tolist()\n",
      "2020-08-06 11:21:43,523 - WARNING - Matching against local CDP cache only.\n",
      "2020-08-06 11:21:43,525 - INFO - Reading 'PSF' model from '/Users/kendrew//CDP/MIRI_FM_MIRIMAGE_P750L_SLITLESSPRISM_PSF_07.04.00.fits'\n",
      "2020-08-06 11:21:43,732 - INFO - Retrieving file for Lrs Array Mask: FocalPlaneMask\n",
      "2020-08-06 11:21:43,761 - INFO - 1 point sources in scene\n",
      "2020-08-06 11:21:43,761 - INFO - point source no: 0\n",
      "2020-08-06 11:21:43,762 - INFO - lrs simulator processing in get_point_int in mirisim.lrssim.lrs\n",
      "2020-08-06 11:21:43,775 - INFO - xcenter 37.49701301277412\n",
      "2020-08-06 11:21:43,776 - INFO - ycenter 828.0078564584006\n",
      "2020-08-06 11:21:43,777 - INFO - xdiff -0.002986987225881421\n",
      "2020-08-06 11:21:43,777 - INFO - ydiff 0.007856458400624433\n",
      "2020-08-06 11:21:43,828 - INFO - no extended sources are computed\n",
      "2020-08-06 11:21:43,828 - INFO - lrs simulator processing in extract_sky_cube in mirisim.lrssim.lrs\n",
      "2020-08-06 11:21:43,829 - INFO - no scenecube sources in scene\n",
      "2020-08-06 11:21:43,830 - INFO - no fits skyCube sources are computed\n",
      "2020-08-06 11:21:43,831 - INFO - calculate background for slitless mode\n",
      "2020-08-06 11:21:43,861 - INFO - lrs simulator processing in get_background_from_scene_lrs_extend in mirisim.lrssim.lrs_extend\n",
      "2020-08-06 11:21:43,861 - INFO - 1 backgrounds available in scene\n",
      "2020-08-06 11:24:47,902 - INFO - Wrote illumination model: 20200806_112025_mirisim/illum_models/illum_model_seq1_MIRIMAGE_P750L.fits\n",
      "2020-08-06 11:24:47,903 - INFO - Simulating integrated detector images for LRS exposures for pointing 1\n",
      "2020-08-06 11:24:47,904 - INFO - Simulating LRS exposure 1\n",
      "2020-08-06 11:24:47,910 - INFO - Running SCASim\n",
      "2020-08-06 11:24:47,911 - INFO - Simulating  detector readout for MIRIMAGE from illumination data model of shape (416, 72).\n",
      "2020-08-06 11:24:47,925 - INFO - Results will be returned in an exposure data model.\n",
      "2020-08-06 11:24:47,939 - INFO -   Detector readout mode is FAST (samplesum=1, sampleskip=0, nframe=1, groupgap=0) \n",
      "2020-08-06 11:24:47,939 - INFO -   with 10 integrations and ngroups=100 defined explicitly.\n"
     ]
    },
    {
     "name": "stderr",
     "output_type": "stream",
     "text": [
      "2020-08-06 11:24:47,940 - INFO -   Detector subarray mode is SLITLESSPRISM  [529, 1, 416, 72].\n",
      "2020-08-06 11:24:47,940 - INFO - Detector temperature = 6.70 K (which affects dark current and read noise).\n",
      "2020-08-06 11:24:47,942 - INFO - Cosmic ray environment is SOLAR_MIN.\n",
      "2020-08-06 11:24:47,944 - INFO - Reading cosmic ray library file: '/Users/kendrew/anaconda3/envs/miricle.devel/lib/python3.7/site-packages/miri/simulators/data/cosmic_rays/CRs_SiAs_470_SUNMIN_04.fits'\n",
      "2020-08-06 11:24:47,985 - INFO - Simulation control flags:\n",
      "2020-08-06 11:24:47,985 - INFO - \tQuantum efficiency simulation turned OFF.\n",
      "2020-08-06 11:24:47,986 - INFO - \tPoisson noise simulation turned ON.\n",
      "2020-08-06 11:24:47,987 - INFO - \tRead noise simulation turned ON.\n",
      "2020-08-06 11:24:47,987 - INFO - \tReference pixels simulation turned ON.\n",
      "2020-08-06 11:24:47,988 - INFO - \tBad pixels simulation turned ON.\n",
      "2020-08-06 11:24:47,989 - INFO - \tDark current simulation turned ON.\n",
      "2020-08-06 11:24:47,990 - INFO - \tFlat-field simulation turned ON.\n",
      "2020-08-06 11:24:47,991 - INFO - \tAmplifier bias and gain turned ON.\n",
      "2020-08-06 11:24:47,991 - INFO - \tDetector non-linearity effects turned ON.\n",
      "2020-08-06 11:24:47,992 - INFO - \tDetector drift effects turned ON.\n",
      "2020-08-06 11:24:47,992 - INFO - \tDetector latency effects turned ON.\n",
      "2020-08-06 11:24:47,993 - INFO - Input subarray mode obtained from illumination map: SLITLESSPRISM\n",
      "2020-08-06 11:24:47,994 - INFO - Detector properties translates input subarray SLITLESSPRISM into [529, 1, 416, 72]\n",
      "2020-08-06 11:24:47,995 - INFO - Creating a new detector object for 1024 rows x 1024 columns.\n",
      "2020-08-06 11:24:47,997 - WARNING - Matching against local CDP cache only.\n",
      "2020-08-06 11:24:47,998 - INFO - Reading 'MASK' model from '/Users/kendrew//CDP/MIRI_FM_MIRIMAGE_MASK_07.02.01.fits'\n",
      "2020-08-06 11:24:48,102 - WARNING - Matching against local CDP cache only.\n",
      "2020-08-06 11:24:48,104 - INFO - Reading 'GAIN' model from '/Users/kendrew//CDP/MIRI_FM_MIRIMAGE_GAIN_04.00.00.fits'\n",
      "2020-08-06 11:26:06,200 - ERROR - SSHException: SFTP connection failed: Unable to connect to www.miricle.org: [Errno 60] Operation timed out  Falling back to LOCAL host.\n",
      "2020-08-06 11:26:06,203 - WARNING - No ftp host specified. Using local cache.\n",
      "2020-08-06 11:26:06,204 - WARNING -   \n",
      "2020-08-06 11:26:06,205 - WARNING - No ftp host specified. Using local cache.\n",
      "2020-08-06 11:26:06,206 - WARNING -   \n",
      "2020-08-06 11:26:06,209 - INFO - Reading DARK model from '/Users/kendrew//CDP/MIRI_FM_MIRIMAGE_FAST_SLITLESSPRISM_DARK_06.01.00.fits'\n",
      "2020-08-06 11:26:06,952 - WARNING - Matching against local CDP cache only.\n",
      "2020-08-06 11:26:06,953 - WARNING - Matching against local CDP cache only.\n",
      "2020-08-06 11:26:06,954 - INFO - Reading 'PIXELFLAT' model from '/Users/kendrew//CDP/MIRI_FM_MIRIMAGE_P750L_SLITLESSPRISM_PIXELFLAT_07.01.01.fits'\n",
      "2020-08-06 11:26:07,020 - WARNING - Could not find exact match for pixel flat-field for detector MIRIMAGE with FAST mode with filter='P750L'. An alternative is being used.\n",
      "2020-08-06 11:26:07,032 - WARNING - Matching against local CDP cache only.\n",
      "2020-08-06 11:26:07,034 - WARNING - Matching against local CDP cache only.\n",
      "2020-08-06 11:26:07,035 - INFO - Reading 'LINEARITY' model from '/Users/kendrew//CDP/MIRI_FM_MIRIMAGE_LINEARITY_07.05.00.fits'\n",
      "2020-08-06 11:26:07,349 - WARNING - Matching against local CDP cache only.\n",
      "2020-08-06 11:26:07,351 - INFO - Reading 'READNOISE' model from '/Users/kendrew//CDP/MIRI_FM_MIRIMAGE_FAST_READNOISE_07.01.00.fits'\n",
      "2020-08-06 11:26:07,416 - INFO - Creating exposure_data with 520 rows x 72 columns plus 100 groups and 10 ints.\n",
      "2020-08-06 11:26:07,683 - INFO - Simulating 10 integrations.\n",
      "2020-08-06 11:26:07,787 - INFO - Simulating 100 groups for integration 1.\n",
      "2020-08-06 11:26:25,517 - INFO - Simulating 100 groups for integration 2.\n",
      "2020-08-06 11:26:41,361 - INFO - Simulating 100 groups for integration 3.\n",
      "2020-08-06 11:26:57,164 - INFO - Simulating 100 groups for integration 4.\n",
      "2020-08-06 11:27:13,263 - INFO - Simulating 100 groups for integration 5.\n",
      "2020-08-06 11:27:29,838 - INFO - Simulating 100 groups for integration 6.\n",
      "2020-08-06 11:27:45,430 - INFO - Simulating 100 groups for integration 7.\n",
      "2020-08-06 11:28:00,952 - INFO - Simulating 100 groups for integration 8.\n",
      "2020-08-06 11:28:16,509 - INFO - Simulating 100 groups for integration 9.\n",
      "2020-08-06 11:28:32,032 - INFO - Simulating 100 groups for integration 10.\n",
      "2020-08-06 11:28:47,606 - INFO - Adding the DARK calibration from /Users/kendrew//CDP/MIRI_FM_MIRIMAGE_FAST_SLITLESSPRISM_DARK_06.01.00.fits\n",
      "2020-08-06 11:28:47,927 - INFO - Correcting nonlinearity from MIRI_FM_MIRIMAGE_LINEARITY_07.05.00.fits\n",
      "2020-08-06 11:28:48,977 - INFO - Output subarray defined. SUBSTRT=(1,529), SUBSIZE=(72,416)\n",
      "2020-08-06 11:28:48,978 - INFO - WCS keywords defined as CRPIX1=0, CRPIX2=-528\n",
      "2020-08-06 11:28:49,486 - INFO - Exposure time 159.04s (duration 159.07s) \n",
      "2020-08-06 11:28:51,423 - INFO - Wrote detector image: 20200806_112025_mirisim/det_images/det_image_seq1_MIRIMAGE_P750Lexp1.fits\n",
      "2020-08-06 11:28:51,424 - INFO - MIRI Simulation finished. Results have been saved to: 20200806_112025_mirisim\n",
      "\n"
     ]
    },
    {
     "name": "stdout",
     "output_type": "stream",
     "text": [
      "20200806_112025_mirisim pipetest_lrstso_SLITLESSPRISM_100G10I1E_20200806_112025_mirisim\n"
     ]
    }
   ],
   "source": [
    "cfg_files = glob.glob('*_simconfig.ini')\n",
    "\n",
    "# configure the simulator engine - this requires no editing from the default\n",
    "simulator_config = SimulatorConfig.from_default()\n",
    "\n",
    "for f in cfg_files[:1]:\n",
    "    print(f)\n",
    "    tmp = f.split('.')\n",
    "    fcomps = tmp[0].split('_')\n",
    "    sim = MiriSimulation.from_configfiles(f)\n",
    "    sim.run()\n",
    "    outdir = sorted(glob.glob('*_*_mirisim'), key=os.path.getmtime )[-1]\n",
    "    new_outdir = 'pipetest_lrstso_{0}_{1}_{2}'.format(fcomps[1], fcomps[2], outdir)\n",
    "    os.rename(outdir, new_outdir)\n",
    "    print(outdir, new_outdir)\n"
   ]
  },
  {
   "cell_type": "code",
   "execution_count": null,
   "metadata": {},
   "outputs": [],
   "source": []
  }
 ],
 "metadata": {
  "kernelspec": {
   "display_name": "Python 3",
   "language": "python",
   "name": "python3"
  },
  "language_info": {
   "codemirror_mode": {
    "name": "ipython",
    "version": 3
   },
   "file_extension": ".py",
   "mimetype": "text/x-python",
   "name": "python",
   "nbconvert_exporter": "python",
   "pygments_lexer": "ipython3",
   "version": "3.8.8"
  }
 },
 "nbformat": 4,
 "nbformat_minor": 4
}
