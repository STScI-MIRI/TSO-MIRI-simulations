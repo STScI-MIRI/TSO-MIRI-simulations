{
 "cells": [
  {
   "cell_type": "code",
   "execution_count": 2,
   "metadata": {},
   "outputs": [],
   "source": [
    "%load_ext autoreload\n",
    "%autoreload"
   ]
  },
  {
   "cell_type": "code",
   "execution_count": 8,
   "metadata": {},
   "outputs": [],
   "source": [
    "import numpy as np\n",
    "import matplotlib.pyplot as plt\n",
    "import os\n",
    "import glob\n",
    "from mirisim.skysim import Background, sed, Point, Skycube\n",
    "from mirisim.config_parser import SimConfig, SimulatorConfig, SceneConfig\n",
    "from mirisim import MiriSimulation\n",
    "\n",
    "from importlib import reload"
   ]
  },
  {
   "cell_type": "markdown",
   "metadata": {},
   "source": [
    "In this notebook we will demonstrate how to generate simulated MIRI time series LRS (slitless) data. To install Mirisim, see the [the public release webpage](http://miri.ster.kuleuven.be/bin/view/Public/MIRISim_Public). The target for the mock observations is WASP-62, an exoplanet host star with the following properties from [the exoplanet encyclopaedia](http://exoplanet.eu/catalog/wasp-62_b/):\n",
    "\n",
    "* spectral type F7\n",
    "* T_bb = 6230 K\n",
    "* K = 8.994\n",
    "\n",
    "K magnitude of 8.994 corresponds to a flux of 20e3 microJy at 8 micron (value obtained from the ETC), and we will use this value for the source generation.\n",
    "\n",
    "Using the ETC, I calculated the following number of groups for a high-SNR but unsaturated image:\n",
    "ngrps = 100\n",
    "\n",
    "We will perform the simulation with 20 integrations. This corresponds to a total exposure time of 0.159 s * 100 * 20  = 318 seconds or 5.3 minutes. **NOTE** MIRISim cannot simulated a changing flux within an expsoure, so there is no actual \"transit\" or \"eclipse\" signature in the data. \n",
    "\n",
    "### Steps in setting up the simulation\n",
    "\n",
    "This notebook will go through the following steps:\n",
    "\n",
    "* Create the scene\n",
    "* Set up the simulation\n",
    "* Run the simulation\n",
    "\n",
    "Each step has its own function, which we will define at the top of the notebook. "
   ]
  },
  {
   "cell_type": "markdown",
   "metadata": {},
   "source": [
    "## Step 0: Definition of some helper functions\n",
    "\n",
    "We will define 2 helper functions:\n",
    "\n",
    "1. star_bb_scene: defines the \"input scene\", i.e the star and the background. it assumes the star is a black body and takes the BB parameters as input\n",
    "2. lrstso_sim_confg: sets up the simulation with appropriate parameters\n",
    "\n"
   ]
  },
  {
   "cell_type": "code",
   "execution_count": 21,
   "metadata": {},
   "outputs": [],
   "source": [
    "def star_bb_scene(scene_file=None, params={'Temp': None, 'wref': None, 'flux': None}, background=None, out=True):\n",
    "    # place a star object in the centre of the field\n",
    "\n",
    "    if scene_file is not None:\n",
    "        print('Creating scene. Scene will be written to file {0}'.format(scene_file))\n",
    "    else:\n",
    "        print('No filename provided. Scene will be written out to file scene.ini')\n",
    "        scene_file = 'scene.ini'\n",
    "\n",
    "    star = Point(Cen=(0,0))\n",
    "    bbparams = params\n",
    "    bb = sed.BBSed(**bbparams)\n",
    "\n",
    "    # set the star's SED to this blackbody SED\n",
    "    star.set_SED(bb)\n",
    "\n",
    "    # now we can add a background if requested:\n",
    "    bg = Background(level=background, gradient=0., pa=0.)\n",
    "    scene = star + bg    \n",
    "\n",
    "    # now we also want to create the ini file\n",
    "    targetlist = [star]\n",
    "\n",
    "    ## export to ini file\n",
    "    scene_config = SceneConfig.makeScene(loglevel=0,\n",
    "                                        background=bg,\n",
    "                                        targets = targetlist)\n",
    "    \n",
    "    if out:\n",
    "        if os.path.exists(scene_file):\n",
    "            print('File {0} already exists. Will be overwritten.'.format(scene_file))\n",
    "        scene_config.write(scene_file)\n",
    "        \n",
    "    \n",
    "    return scene_config\n"
   ]
  },
  {
   "cell_type": "code",
   "execution_count": 24,
   "metadata": {},
   "outputs": [],
   "source": [
    "def lrstso_sim_config(mode='lrs', arr='SLITLESSPRISM', ngrp=None, nint=None, nexp=1, webbpsf=True, scene_file=None, out=True):\n",
    "    \n",
    "    '''\n",
    "    Function to set up the imaging TSO simulation. Arguments:\n",
    "    - mode: the MIRI mode to use (default='lrs') [string]\n",
    "    - arr: array configureation (default='SLITLESSPRISM') [string]\n",
    "    - ngrp: the number of groups (minimum of 2 required; minimum of 5 is recommended) [integer]\n",
    "    - nint: number of integrations [integer]\n",
    "    - nexp: number of exposures (default = 1, as recommended for TSOs) [integer]\n",
    "    - scene_file: scene filename, as returned by the scene generation function [string]\n",
    "    - out: set to True if you want to write the sim configuration out to file (default=True)[boolean]\n",
    "    \n",
    "    \n",
    "    Notes on other simulation parameters, as we are only using this function for imaging simulations:\n",
    "    - POP: always 'IMA'\n",
    "    - parameters disperser, detector and mrs_* are included in teh list but NOT ACCESSED\n",
    "    - ima_mode: always use FAST mode for TSOs\n",
    "    \n",
    "    '''\n",
    "    \n",
    "    if (mode == 'lrs') & (arr == 'SLITLESSPRISM'):\n",
    "        op_path = 'IMA'\n",
    "        cfg = 'LRS_SLITLESS'\n",
    "        filt = 'P750L'\n",
    "    \n",
    "    else:\n",
    "        raise ValueError(\"This mode is not supported in this function.\")\n",
    "    \n",
    "    if arr not in ['SLITLESSPRISM']:\n",
    "        raise ValueError(\"Array configuration not supported for LRS slitless TSOs.\")\n",
    "    \n",
    "    if os.path.exists(scene_file):\n",
    "        print(\"Found scene file {0}\".format(scene_file))\n",
    "    else:\n",
    "        raise ValueError('Scene file not found.')\n",
    "\n",
    "    if ngrp < 2:\n",
    "        raise ValueError(\"Number of groups must be 2 or larger.\")\n",
    "    \n",
    "    fbase = scene_file.split('_')[0]\n",
    "    simname = '{3}_{4}_{0}G{1}I{2}E'.format(ngrp, nint, nexp, fbase, arr)\n",
    "    \n",
    "    sim_config = SimConfig.makeSim(\n",
    "        name = simname,    # name given to simulation\n",
    "        scene = scene_file, # name of scene file to input\n",
    "        rel_obsdate = 0.0,          # relative observation date (0 = launch, 1 = end of 5 yrs)\n",
    "        POP = op_path,                # Component on which to center (Imager or MRS)\n",
    "        ConfigPath = cfg,  # Configure the Optical path (MRS sub-band)\n",
    "        Dither = False,             # Don't Dither\n",
    "        StartInd = 1,               # start index for dither pattern [NOT USED HERE]\n",
    "        NDither = 2,                # number of dither positions [NOT USED HERE]\n",
    "        DitherPat = 'lrs_recommended_dither.dat', # dither pattern to use [NOT USED HERE]\n",
    "        disperser = 'SHORT',        # [NOT USED HERE]\n",
    "        detector = 'SW',            # [NOT USED HERE]\n",
    "        mrs_mode = 'SLOW',          # [NOT USED HERE]\n",
    "        mrs_exposures = 10,          # [NOT USED HERE]\n",
    "        mrs_integrations = 3,       # [NOT USED HERE]\n",
    "        mrs_frames = 5,             # [NOT USED HERE]\n",
    "        ima_exposures = nexp,          # number of exposures\n",
    "        ima_integrations = nint,       # number of integrations\n",
    "        ima_frames = ngrp,             # number of groups (for MIRI, # Groups = # Frames)\n",
    "        ima_mode = 'FAST',          # Imager read mode (default is FAST ~ 2.3 s)\n",
    "        filter = filt,          # Imager Filter to use\n",
    "        readDetect = arr         # Portion of detector to read out,\n",
    "    )\n",
    "\n",
    "\n",
    "    # write the simulation config out to file, if out was set to True. the output filename is the simname, followed b the number of groups, ints and exp, for easy reference.\n",
    "    simout = '{0}_simconfig.ini'.format(simname)\n",
    "    if out:\n",
    "        sim_config.write(simout)\n",
    "\n",
    "    return sim_config\n",
    "    \n"
   ]
  },
  {
   "cell_type": "markdown",
   "metadata": {},
   "source": [
    "## Step 1: Creating the input scene (star_scene)\n",
    "\n",
    "Here we'll create the input scene for the simulations using the function star_scene(). Arguments:\n",
    "\n",
    "* scene_file: the filename for the .ini file\n",
    "* write_cube: write the scene image out to a FITS file (optional; default=False)\n",
    "\n",
    "The function returns a mirisim.skysim.scenes.CompositeSkyScene object.\n"
   ]
  },
  {
   "cell_type": "code",
   "execution_count": 25,
   "metadata": {},
   "outputs": [
    {
     "name": "stderr",
     "output_type": "stream",
     "text": [
      "2021-05-20 14:19:23,991 - INFO - Initializing Point\n",
      "2021-05-20 14:19:23,992 - INFO - Initializing Background\n"
     ]
    },
    {
     "name": "stdout",
     "output_type": "stream",
     "text": [
      "Creating scene. Scene will be written to file lrstso_star_scene.ini\n",
      "File lrstso_star_scene.ini already exists. Will be overwritten.\n",
      "lrstso_star_scene.ini exists, overwrite (y/[n])?y\n"
     ]
    }
   ],
   "source": [
    "star_temp = 6230.\n",
    "bb_wref = 2.0\n",
    "star_flux = 20e3\n",
    "\n",
    "scene_cfg = star_bb_scene(scene_file='lrstso_star_scene.ini', params={'Temp': star_temp, 'wref': bb_wref, 'flux': star_flux}, background='low')"
   ]
  },
  {
   "cell_type": "markdown",
   "metadata": {},
   "source": [
    "## Step 2: Configuring the simulation\n",
    "\n",
    "Now we'll set up the simulations and prepare to run them. Before we write out a new simconfig file, we delete any existing files in the directory. I'll set it up to loop through the different simulations. For this we use the function ``lrstso_sim_config`` defined above. Check the docstring for descriptions and default values of the arguments. \n",
    "\n",
    "The function will write out another .ini file containing the simulation configuration, and it returns the output filename for further use."
   ]
  },
  {
   "cell_type": "code",
   "execution_count": 26,
   "metadata": {},
   "outputs": [
    {
     "name": "stdout",
     "output_type": "stream",
     "text": [
      "Found scene file lrstso_star_scene.ini\n",
      "lrstso_SLITLESSPRISM_100G20I1E_simconfig.ini\n"
     ]
    }
   ],
   "source": [
    "old_files = glob.glob('*_simconfig.ini')\n",
    "\n",
    "for of in old_files:\n",
    "    os.remove(of)\n",
    "    \n",
    "ngrp = 100\n",
    "nint = 20\n",
    "\n",
    "sim_cfg = lrstso_sim_config(mode='lrs', arr='SLITLESSPRISM', ngrp=ngrp, nint=nint, nexp=1, \n",
    "                   scene_file=scene_ini, out=True)   \n",
    "\n",
    "print(sim_ini)"
   ]
  },
  {
   "cell_type": "markdown",
   "metadata": {},
   "source": [
    "### Step 3: Run the simulation\n",
    "\n",
    "In the following step we'll run the simulation using 3 input files:the scene, the simulation configuration, and the simulator setup file. We make one modification to the \"default\" simulator configuration, and that is to use the WebbPSF model. This PSF model is more accurate than the default instrument model, as it includes the telescope model. \n",
    "\n",
    "After the simulation has run, the code renames the output directory to include the simulation settings to the directory.\n"
   ]
  },
  {
   "cell_type": "code",
   "execution_count": null,
   "metadata": {},
   "outputs": [],
   "source": [
    "#configure the simulator engine - this requires no editing from the default\n",
    "simulator_config = SimulatorConfig.makeSimulator(take_webbPsf=True)\n",
    "\n",
    "cfg_file = glob.glob('*simconfig.ini')\n",
    "tmp = cfg_file[0].split('.')\n",
    "fcomps = tmp[0].split('_')\n",
    "\n",
    "sim = MiriSimulation(sim_config=sim_cfg, scene_config=scene_cfg,\n",
    "                        simulator_config=simulator_config, loglevel='WARNING', local=False)\n",
    "sim.run()\n",
    "\n",
    "\n"
   ]
  },
  {
   "cell_type": "markdown",
   "metadata": {},
   "source": [
    "You may want to rename the output folder on completion. \n",
    "\n",
    "-- END"
   ]
  },
  {
   "cell_type": "code",
   "execution_count": null,
   "metadata": {},
   "outputs": [],
   "source": []
  }
 ],
 "metadata": {
  "kernelspec": {
   "display_name": "Python 3",
   "language": "python",
   "name": "python3"
  },
  "language_info": {
   "codemirror_mode": {
    "name": "ipython",
    "version": 3
   },
   "file_extension": ".py",
   "mimetype": "text/x-python",
   "name": "python",
   "nbconvert_exporter": "python",
   "pygments_lexer": "ipython3",
   "version": "3.8.8"
  }
 },
 "nbformat": 4,
 "nbformat_minor": 4
}
